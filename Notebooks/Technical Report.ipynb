{
 "cells": [
  {
   "cell_type": "markdown",
   "metadata": {},
   "source": [
    "# Predicting Customer Churn \n",
    "\n",
    "## Business Problem and Overview\n",
    "\n",
    "####  Overview\n",
    "\n",
    "This project will be using the Telco Customer Churn dataset. This data is available in free in the Kaggle website.The dataset provides information on customers who churned or exited, services that each customer had signed up for, demographic information and customer account information such as type of contract, charges and payment method. \n",
    "\n",
    "####  Problem\n",
    "\n",
    "The problem is that customers are churning or switching to get services from competitors. As a result of this project we can predict which customers are likely to churn or not. The business can use this information to minimize the number of customers who churn. \n",
    "\n",
    "This is Classification problem. The target variable is `Churn`, which shows which customer churned or did not churn.\n",
    "\n",
    "#### Goal\n",
    "\n",
    "The project's goal is to predict if a customer will churn or not, by using a Classification model with an accuracy score of over 0.73. The metrics used will mainly be the accuracy score. In addition the confusion matrix will be used. \n",
    "\n",
    "To help achieve this goal the 5-fold Cross Validation will be used to compare the accuracy score of different models. The Grid Search CV will be used to fine tune the models and get the final model with the best accuracy score. \n",
    "\n",
    "#### Research questions\n",
    "\n",
    "What do we learn from the exploratory data analysis?\n",
    "\n",
    "What happened to the accuracy score when the grid search cross validation was used?\n",
    "\n",
    "What is the best model to use? \n",
    "\n",
    "#### Motivation and Interest\n",
    "Businesses spend alot of money on marketing and marketing strategy to get potential customers. \n",
    "\n",
    "It is therefore critical that they are able to retain these customers and not lose their customers to competitors. \n",
    "\n",
    "This project is useful to businesses because it helps them see which customers are likely to churn out and improve on services that can reduce the number of customers who churn out.\n",
    "\n",
    "This study will be useful for anyone wanting to learn how to make predictions using categorical data.\n",
    "\n",
    "It is also useful for anyone wanting to learn how to analyze a dataset and also how to compare models using 5-fold Cross Validation and use Grid Search CV."
   ]
  },
  {
   "cell_type": "markdown",
   "metadata": {},
   "source": [
    "#### Background and Research\n",
    "\n",
    "According to NeilsonIQ report [The price is right: Incentives that stimulate switching behaviour](), it is noted that even though better prices influenced customer switching behaviour, prices alone were not a guarantee to keep the customers. They noted that incentives that influenced the customers switching behaviour were price, quality, better service agreement, better selection and improved features. \n",
    "\n",
    "Other people have done work on this dataset, for example in the [Predict Customer Churn](https://datascienceplus.com/predict-customer-churn-logistic-regression-decision-tree-and-random-forest/) the data was modeled using Logistic Regression, Decision Tree and Random Forest using R.  In the [Telco Customer Churn Prediction](https://towardsdatascience.com/telco-customer-churn-prediction-72f5cbfb8964) the Logistic Regression model is used to analyze the dataset. "
   ]
  },
  {
   "cell_type": "markdown",
   "metadata": {},
   "source": [
    "## Getting the data"
   ]
  },
  {
   "cell_type": "markdown",
   "metadata": {},
   "source": [
    "#### Source\n",
    "\n",
    "This is the Telco Customer Churn dataset. This dataset is from Kaggle website. According to the information in the metadata it was posted and updated by Blastchar 2018-02-23. It is originally from the IBM Sample Data Sets.\n",
    "\n",
    "If you would like to access this data please click this [link](hps://www.kaggle.com/blastchar/telco-customer-churn) to the Kaggle website. \n",
    "\n",
    "The data is a .csv file. It has 21 attributes and 7043 rows. It has no missing values. It is 172 KB.\n",
    "\n",
    "The following description is included with the dataset:\n",
    ">\n",
    ">**Context**\n",
    ">\n",
    "> \"Predict behavior to retain customers. You can analyze all relevant customer data and develop focused customer retention programs.\" [IBM Sample Data Sets]\n",
    ">\n",
    ">**Content**\n",
    ">Each row represents a customer, each column contains customer’s attributes described on the column Metadata.\n",
    "> The data set includes information about:\n",
    ">> - Customers who left within the last month – the column is called Churn\n",
    ">> - Services that each customer has signed up for – phone, multiple lines, internet, online security, online backup, device protection, tech support, and streaming TV and movies\n",
    ">> - Customer account information – how long they’ve been a customer, contract, payment method, paperless billing, monthly charges, and total charges\n",
    ">> - Demographic info about customers – gender, age range, and if they have partners and dependents\n",
    ">\n",
    ">**Inspiration**\n",
    "To explore this type of models and learn more about the subject."
   ]
  },
  {
   "cell_type": "markdown",
   "metadata": {},
   "source": [
    "#### Relevant Columns\n",
    "\n",
    "This is a supervised learning problem because it has labels and a defined target variable.\n",
    "\n",
    "It is also a classification problem because it is predicting categorical information, which is whether customers churn or not.\n",
    "\n",
    "Our target variable is `Churn` refering to whether the customer churned or not, that is exited or not.\n",
    "\n",
    "All the columns in the dataset are important for the analysis, except the customerID column. "
   ]
  },
  {
   "cell_type": "markdown",
   "metadata": {},
   "source": [
    "## Explore the data and gain insights"
   ]
  },
  {
   "cell_type": "code",
   "execution_count": 4,
   "metadata": {},
   "outputs": [
    {
     "data": {
      "text/html": [
       "<div>\n",
       "<style scoped>\n",
       "    .dataframe tbody tr th:only-of-type {\n",
       "        vertical-align: middle;\n",
       "    }\n",
       "\n",
       "    .dataframe tbody tr th {\n",
       "        vertical-align: top;\n",
       "    }\n",
       "\n",
       "    .dataframe thead th {\n",
       "        text-align: right;\n",
       "    }\n",
       "</style>\n",
       "<table border=\"1\" class=\"dataframe\">\n",
       "  <thead>\n",
       "    <tr style=\"text-align: right;\">\n",
       "      <th></th>\n",
       "      <th>customerID</th>\n",
       "      <th>gender</th>\n",
       "      <th>SeniorCitizen</th>\n",
       "      <th>Partner</th>\n",
       "      <th>Dependents</th>\n",
       "      <th>tenure</th>\n",
       "      <th>PhoneService</th>\n",
       "      <th>MultipleLines</th>\n",
       "      <th>InternetService</th>\n",
       "      <th>OnlineSecurity</th>\n",
       "      <th>...</th>\n",
       "      <th>DeviceProtection</th>\n",
       "      <th>TechSupport</th>\n",
       "      <th>StreamingTV</th>\n",
       "      <th>StreamingMovies</th>\n",
       "      <th>Contract</th>\n",
       "      <th>PaperlessBilling</th>\n",
       "      <th>PaymentMethod</th>\n",
       "      <th>MonthlyCharges</th>\n",
       "      <th>TotalCharges</th>\n",
       "      <th>Churn</th>\n",
       "    </tr>\n",
       "  </thead>\n",
       "  <tbody>\n",
       "    <tr>\n",
       "      <th>0</th>\n",
       "      <td>7590-VHVEG</td>\n",
       "      <td>Female</td>\n",
       "      <td>0</td>\n",
       "      <td>Yes</td>\n",
       "      <td>No</td>\n",
       "      <td>1</td>\n",
       "      <td>No</td>\n",
       "      <td>No phone service</td>\n",
       "      <td>DSL</td>\n",
       "      <td>No</td>\n",
       "      <td>...</td>\n",
       "      <td>No</td>\n",
       "      <td>No</td>\n",
       "      <td>No</td>\n",
       "      <td>No</td>\n",
       "      <td>Month-to-month</td>\n",
       "      <td>Yes</td>\n",
       "      <td>Electronic check</td>\n",
       "      <td>29.85</td>\n",
       "      <td>29.85</td>\n",
       "      <td>No</td>\n",
       "    </tr>\n",
       "    <tr>\n",
       "      <th>1</th>\n",
       "      <td>5575-GNVDE</td>\n",
       "      <td>Male</td>\n",
       "      <td>0</td>\n",
       "      <td>No</td>\n",
       "      <td>No</td>\n",
       "      <td>34</td>\n",
       "      <td>Yes</td>\n",
       "      <td>No</td>\n",
       "      <td>DSL</td>\n",
       "      <td>Yes</td>\n",
       "      <td>...</td>\n",
       "      <td>Yes</td>\n",
       "      <td>No</td>\n",
       "      <td>No</td>\n",
       "      <td>No</td>\n",
       "      <td>One year</td>\n",
       "      <td>No</td>\n",
       "      <td>Mailed check</td>\n",
       "      <td>56.95</td>\n",
       "      <td>1889.5</td>\n",
       "      <td>No</td>\n",
       "    </tr>\n",
       "    <tr>\n",
       "      <th>2</th>\n",
       "      <td>3668-QPYBK</td>\n",
       "      <td>Male</td>\n",
       "      <td>0</td>\n",
       "      <td>No</td>\n",
       "      <td>No</td>\n",
       "      <td>2</td>\n",
       "      <td>Yes</td>\n",
       "      <td>No</td>\n",
       "      <td>DSL</td>\n",
       "      <td>Yes</td>\n",
       "      <td>...</td>\n",
       "      <td>No</td>\n",
       "      <td>No</td>\n",
       "      <td>No</td>\n",
       "      <td>No</td>\n",
       "      <td>Month-to-month</td>\n",
       "      <td>Yes</td>\n",
       "      <td>Mailed check</td>\n",
       "      <td>53.85</td>\n",
       "      <td>108.15</td>\n",
       "      <td>Yes</td>\n",
       "    </tr>\n",
       "    <tr>\n",
       "      <th>3</th>\n",
       "      <td>7795-CFOCW</td>\n",
       "      <td>Male</td>\n",
       "      <td>0</td>\n",
       "      <td>No</td>\n",
       "      <td>No</td>\n",
       "      <td>45</td>\n",
       "      <td>No</td>\n",
       "      <td>No phone service</td>\n",
       "      <td>DSL</td>\n",
       "      <td>Yes</td>\n",
       "      <td>...</td>\n",
       "      <td>Yes</td>\n",
       "      <td>Yes</td>\n",
       "      <td>No</td>\n",
       "      <td>No</td>\n",
       "      <td>One year</td>\n",
       "      <td>No</td>\n",
       "      <td>Bank transfer (automatic)</td>\n",
       "      <td>42.30</td>\n",
       "      <td>1840.75</td>\n",
       "      <td>No</td>\n",
       "    </tr>\n",
       "    <tr>\n",
       "      <th>4</th>\n",
       "      <td>9237-HQITU</td>\n",
       "      <td>Female</td>\n",
       "      <td>0</td>\n",
       "      <td>No</td>\n",
       "      <td>No</td>\n",
       "      <td>2</td>\n",
       "      <td>Yes</td>\n",
       "      <td>No</td>\n",
       "      <td>Fiber optic</td>\n",
       "      <td>No</td>\n",
       "      <td>...</td>\n",
       "      <td>No</td>\n",
       "      <td>No</td>\n",
       "      <td>No</td>\n",
       "      <td>No</td>\n",
       "      <td>Month-to-month</td>\n",
       "      <td>Yes</td>\n",
       "      <td>Electronic check</td>\n",
       "      <td>70.70</td>\n",
       "      <td>151.65</td>\n",
       "      <td>Yes</td>\n",
       "    </tr>\n",
       "  </tbody>\n",
       "</table>\n",
       "<p>5 rows × 21 columns</p>\n",
       "</div>"
      ],
      "text/plain": [
       "   customerID  gender  SeniorCitizen Partner Dependents  tenure PhoneService  \\\n",
       "0  7590-VHVEG  Female              0     Yes         No       1           No   \n",
       "1  5575-GNVDE    Male              0      No         No      34          Yes   \n",
       "2  3668-QPYBK    Male              0      No         No       2          Yes   \n",
       "3  7795-CFOCW    Male              0      No         No      45           No   \n",
       "4  9237-HQITU  Female              0      No         No       2          Yes   \n",
       "\n",
       "      MultipleLines InternetService OnlineSecurity  ... DeviceProtection  \\\n",
       "0  No phone service             DSL             No  ...               No   \n",
       "1                No             DSL            Yes  ...              Yes   \n",
       "2                No             DSL            Yes  ...               No   \n",
       "3  No phone service             DSL            Yes  ...              Yes   \n",
       "4                No     Fiber optic             No  ...               No   \n",
       "\n",
       "  TechSupport StreamingTV StreamingMovies        Contract PaperlessBilling  \\\n",
       "0          No          No              No  Month-to-month              Yes   \n",
       "1          No          No              No        One year               No   \n",
       "2          No          No              No  Month-to-month              Yes   \n",
       "3         Yes          No              No        One year               No   \n",
       "4          No          No              No  Month-to-month              Yes   \n",
       "\n",
       "               PaymentMethod MonthlyCharges  TotalCharges Churn  \n",
       "0           Electronic check          29.85         29.85    No  \n",
       "1               Mailed check          56.95        1889.5    No  \n",
       "2               Mailed check          53.85        108.15   Yes  \n",
       "3  Bank transfer (automatic)          42.30       1840.75    No  \n",
       "4           Electronic check          70.70        151.65   Yes  \n",
       "\n",
       "[5 rows x 21 columns]"
      ]
     },
     "execution_count": 4,
     "metadata": {},
     "output_type": "execute_result"
    }
   ],
   "source": [
    "# import libraries\n",
    "\n",
    "import pandas as pd\n",
    "import numpy as np\n",
    "\n",
    "%matplotlib inline\n",
    "import matplotlib.pyplot as plt\n",
    "import seaborn; seaborn.set()\n",
    "from sklearn.metrics import confusion_matrix, classification_report\n",
    "\n",
    "customer = pd.read_csv(\"Telco_Customer_Churn.csv\")\n",
    "\n",
    "customer.head()"
   ]
  },
  {
   "cell_type": "markdown",
   "metadata": {},
   "source": [
    "#### Size of data\n",
    "\n",
    "Data has 7043 rows and 21 columns"
   ]
  },
  {
   "cell_type": "code",
   "execution_count": 109,
   "metadata": {},
   "outputs": [
    {
     "data": {
      "text/plain": [
       "(7043, 21)"
      ]
     },
     "execution_count": 109,
     "metadata": {},
     "output_type": "execute_result"
    }
   ],
   "source": [
    "# Check data shape\n",
    "\n",
    "customer.shape"
   ]
  },
  {
   "cell_type": "markdown",
   "metadata": {},
   "source": [
    "#### Target Column"
   ]
  },
  {
   "cell_type": "code",
   "execution_count": 110,
   "metadata": {},
   "outputs": [
    {
     "data": {
      "text/plain": [
       "No     5174\n",
       "Yes    1869\n",
       "Name: Churn, dtype: int64"
      ]
     },
     "execution_count": 110,
     "metadata": {},
     "output_type": "execute_result"
    }
   ],
   "source": [
    "customer[\"Churn\"].value_counts()"
   ]
  },
  {
   "cell_type": "code",
   "execution_count": 111,
   "metadata": {},
   "outputs": [
    {
     "data": {
      "text/plain": [
       "0.7346301292063041"
      ]
     },
     "execution_count": 111,
     "metadata": {},
     "output_type": "execute_result"
    }
   ],
   "source": [
    "# Dummny Model Accuracy Rate (Baseline)\n",
    "\n",
    "5174/(5174+1869)"
   ]
  },
  {
   "cell_type": "markdown",
   "metadata": {},
   "source": [
    "### Missing Values and Datatypes"
   ]
  },
  {
   "cell_type": "code",
   "execution_count": 112,
   "metadata": {},
   "outputs": [
    {
     "name": "stdout",
     "output_type": "stream",
     "text": [
      "<class 'pandas.core.frame.DataFrame'>\n",
      "RangeIndex: 7043 entries, 0 to 7042\n",
      "Data columns (total 21 columns):\n",
      " #   Column            Non-Null Count  Dtype  \n",
      "---  ------            --------------  -----  \n",
      " 0   customerID        7043 non-null   object \n",
      " 1   gender            7043 non-null   object \n",
      " 2   SeniorCitizen     7043 non-null   int64  \n",
      " 3   Partner           7043 non-null   object \n",
      " 4   Dependents        7043 non-null   object \n",
      " 5   tenure            7043 non-null   int64  \n",
      " 6   PhoneService      7043 non-null   object \n",
      " 7   MultipleLines     7043 non-null   object \n",
      " 8   InternetService   7043 non-null   object \n",
      " 9   OnlineSecurity    7043 non-null   object \n",
      " 10  OnlineBackup      7043 non-null   object \n",
      " 11  DeviceProtection  7043 non-null   object \n",
      " 12  TechSupport       7043 non-null   object \n",
      " 13  StreamingTV       7043 non-null   object \n",
      " 14  StreamingMovies   7043 non-null   object \n",
      " 15  Contract          7043 non-null   object \n",
      " 16  PaperlessBilling  7043 non-null   object \n",
      " 17  PaymentMethod     7043 non-null   object \n",
      " 18  MonthlyCharges    7043 non-null   float64\n",
      " 19  TotalCharges      7043 non-null   object \n",
      " 20  Churn             7043 non-null   object \n",
      "dtypes: float64(1), int64(2), object(18)\n",
      "memory usage: 660.3+ KB\n"
     ]
    }
   ],
   "source": [
    "# Check for missing data\n",
    "\n",
    "customer.info()"
   ]
  },
  {
   "cell_type": "markdown",
   "metadata": {},
   "source": [
    "We have no missing values. \n",
    "\n",
    "The column `MonthlyCharges` is a float. `SeniorCitizen` and `tenure` are integers. The rest of the columns are objects.\n",
    "\n",
    "The columns `CustomerID` does not help in determing if a customer churns or not and there will be deleted. \n",
    "\n",
    "Even though `Total Charges` is put in as a object it supposed to be a float. So that will be changed."
   ]
  },
  {
   "cell_type": "markdown",
   "metadata": {},
   "source": [
    "#### Check the objects columns"
   ]
  },
  {
   "cell_type": "code",
   "execution_count": 113,
   "metadata": {},
   "outputs": [
    {
     "data": {
      "text/plain": [
       "Male      3555\n",
       "Female    3488\n",
       "Name: gender, dtype: int64"
      ]
     },
     "execution_count": 113,
     "metadata": {},
     "output_type": "execute_result"
    }
   ],
   "source": [
    "# Check the object columns\n",
    "\n",
    "customer['gender'].value_counts()"
   ]
  },
  {
   "cell_type": "code",
   "execution_count": 114,
   "metadata": {},
   "outputs": [
    {
     "data": {
      "text/plain": [
       "No     3641\n",
       "Yes    3402\n",
       "Name: Partner, dtype: int64"
      ]
     },
     "execution_count": 114,
     "metadata": {},
     "output_type": "execute_result"
    }
   ],
   "source": [
    "customer[\"Partner\"].value_counts()"
   ]
  },
  {
   "cell_type": "code",
   "execution_count": 115,
   "metadata": {},
   "outputs": [
    {
     "data": {
      "text/plain": [
       "No     4933\n",
       "Yes    2110\n",
       "Name: Dependents, dtype: int64"
      ]
     },
     "execution_count": 115,
     "metadata": {},
     "output_type": "execute_result"
    }
   ],
   "source": [
    "customer[\"Dependents\"].value_counts()"
   ]
  },
  {
   "cell_type": "code",
   "execution_count": 116,
   "metadata": {},
   "outputs": [
    {
     "data": {
      "text/plain": [
       "Yes    6361\n",
       "No      682\n",
       "Name: PhoneService, dtype: int64"
      ]
     },
     "execution_count": 116,
     "metadata": {},
     "output_type": "execute_result"
    }
   ],
   "source": [
    "customer[\"PhoneService\"].value_counts()"
   ]
  },
  {
   "cell_type": "code",
   "execution_count": 117,
   "metadata": {},
   "outputs": [
    {
     "data": {
      "text/plain": [
       "No                  3390\n",
       "Yes                 2971\n",
       "No phone service     682\n",
       "Name: MultipleLines, dtype: int64"
      ]
     },
     "execution_count": 117,
     "metadata": {},
     "output_type": "execute_result"
    }
   ],
   "source": [
    "customer[\"MultipleLines\"].value_counts()"
   ]
  },
  {
   "cell_type": "code",
   "execution_count": 118,
   "metadata": {},
   "outputs": [
    {
     "data": {
      "text/plain": [
       "Fiber optic    3096\n",
       "DSL            2421\n",
       "No             1526\n",
       "Name: InternetService, dtype: int64"
      ]
     },
     "execution_count": 118,
     "metadata": {},
     "output_type": "execute_result"
    }
   ],
   "source": [
    "customer[\"InternetService\"].value_counts()"
   ]
  },
  {
   "cell_type": "code",
   "execution_count": 119,
   "metadata": {},
   "outputs": [
    {
     "data": {
      "text/plain": [
       "No                     3498\n",
       "Yes                    2019\n",
       "No internet service    1526\n",
       "Name: OnlineSecurity, dtype: int64"
      ]
     },
     "execution_count": 119,
     "metadata": {},
     "output_type": "execute_result"
    }
   ],
   "source": [
    "customer[\"OnlineSecurity\"].value_counts()"
   ]
  },
  {
   "cell_type": "code",
   "execution_count": 120,
   "metadata": {},
   "outputs": [
    {
     "data": {
      "text/plain": [
       "No                     3088\n",
       "Yes                    2429\n",
       "No internet service    1526\n",
       "Name: OnlineBackup, dtype: int64"
      ]
     },
     "execution_count": 120,
     "metadata": {},
     "output_type": "execute_result"
    }
   ],
   "source": [
    "customer[\"OnlineBackup\"].value_counts()"
   ]
  },
  {
   "cell_type": "code",
   "execution_count": 121,
   "metadata": {},
   "outputs": [
    {
     "data": {
      "text/plain": [
       "No                     3095\n",
       "Yes                    2422\n",
       "No internet service    1526\n",
       "Name: DeviceProtection, dtype: int64"
      ]
     },
     "execution_count": 121,
     "metadata": {},
     "output_type": "execute_result"
    }
   ],
   "source": [
    "customer[\"DeviceProtection\"].value_counts()"
   ]
  },
  {
   "cell_type": "code",
   "execution_count": 122,
   "metadata": {},
   "outputs": [
    {
     "data": {
      "text/plain": [
       "No                     3473\n",
       "Yes                    2044\n",
       "No internet service    1526\n",
       "Name: TechSupport, dtype: int64"
      ]
     },
     "execution_count": 122,
     "metadata": {},
     "output_type": "execute_result"
    }
   ],
   "source": [
    "customer[\"TechSupport\"].value_counts()"
   ]
  },
  {
   "cell_type": "code",
   "execution_count": 123,
   "metadata": {},
   "outputs": [
    {
     "data": {
      "text/plain": [
       "No                     2810\n",
       "Yes                    2707\n",
       "No internet service    1526\n",
       "Name: StreamingTV, dtype: int64"
      ]
     },
     "execution_count": 123,
     "metadata": {},
     "output_type": "execute_result"
    }
   ],
   "source": [
    "customer[\"StreamingTV\"].value_counts()"
   ]
  },
  {
   "cell_type": "code",
   "execution_count": 124,
   "metadata": {},
   "outputs": [
    {
     "data": {
      "text/plain": [
       "No                     2785\n",
       "Yes                    2732\n",
       "No internet service    1526\n",
       "Name: StreamingMovies, dtype: int64"
      ]
     },
     "execution_count": 124,
     "metadata": {},
     "output_type": "execute_result"
    }
   ],
   "source": [
    "customer[\"StreamingMovies\"].value_counts()"
   ]
  },
  {
   "cell_type": "code",
   "execution_count": 125,
   "metadata": {},
   "outputs": [
    {
     "data": {
      "text/plain": [
       "Yes    4171\n",
       "No     2872\n",
       "Name: PaperlessBilling, dtype: int64"
      ]
     },
     "execution_count": 125,
     "metadata": {},
     "output_type": "execute_result"
    }
   ],
   "source": [
    "customer[\"PaperlessBilling\"].value_counts()"
   ]
  },
  {
   "cell_type": "code",
   "execution_count": 126,
   "metadata": {},
   "outputs": [
    {
     "data": {
      "text/plain": [
       "Month-to-month    3875\n",
       "Two year          1695\n",
       "One year          1473\n",
       "Name: Contract, dtype: int64"
      ]
     },
     "execution_count": 126,
     "metadata": {},
     "output_type": "execute_result"
    }
   ],
   "source": [
    "customer[\"Contract\"].value_counts()"
   ]
  },
  {
   "cell_type": "code",
   "execution_count": 127,
   "metadata": {},
   "outputs": [
    {
     "data": {
      "text/plain": [
       "Electronic check             2365\n",
       "Mailed check                 1612\n",
       "Bank transfer (automatic)    1544\n",
       "Credit card (automatic)      1522\n",
       "Name: PaymentMethod, dtype: int64"
      ]
     },
     "execution_count": 127,
     "metadata": {},
     "output_type": "execute_result"
    }
   ],
   "source": [
    "customer[\"PaymentMethod\"].value_counts()"
   ]
  },
  {
   "cell_type": "code",
   "execution_count": 145,
   "metadata": {},
   "outputs": [
    {
     "data": {
      "image/png": "[encoded data removed]",
      "text/plain": [
       "<Figure size 1296x1152 with 4 Axes>"
      ]
     },
     "metadata": {},
     "output_type": "display_data"
    }
   ],
   "source": [
    "## Visualise the data\n",
    "\n",
    "customer=customer.drop(columns=\"customerID\")\n",
    "\n",
    "customer.hist(bins=50, figsize=(18,16))\n",
    "plt.show()"
   ]
  },
  {
   "cell_type": "markdown",
   "metadata": {},
   "source": [
    "notes\n",
    "\n",
    "MonthlyCharges - There are many people with a monthly charge of less than 20.\n",
    "\n",
    "SeniorCitizen - We see there are afew customers who senior citizens compared to non-senior citizens.\n",
    "\n",
    "TotalCharges - There are many customers at the lowest level of charges.\n",
    "\n",
    "Tenure - There are many new customers, as there is a spike at the 0 to 2 value. The tenure is capped at 72 since it spikes at 72.\n",
    "\n",
    "The histograms are using different scales."
   ]
  },
  {
   "cell_type": "code",
   "execution_count": 147,
   "metadata": {},
   "outputs": [
    {
     "data": {
      "text/html": [
       "<div>\n",
       "<style scoped>\n",
       "    .dataframe tbody tr th:only-of-type {\n",
       "        vertical-align: middle;\n",
       "    }\n",
       "\n",
       "    .dataframe tbody tr th {\n",
       "        vertical-align: top;\n",
       "    }\n",
       "\n",
       "    .dataframe thead th {\n",
       "        text-align: right;\n",
       "    }\n",
       "</style>\n",
       "<table border=\"1\" class=\"dataframe\">\n",
       "  <thead>\n",
       "    <tr style=\"text-align: right;\">\n",
       "      <th></th>\n",
       "      <th>SeniorCitizen</th>\n",
       "      <th>tenure</th>\n",
       "      <th>MonthlyCharges</th>\n",
       "      <th>TotalCharges</th>\n",
       "    </tr>\n",
       "  </thead>\n",
       "  <tbody>\n",
       "    <tr>\n",
       "      <th>count</th>\n",
       "      <td>7043.000000</td>\n",
       "      <td>7043.000000</td>\n",
       "      <td>7043.000000</td>\n",
       "      <td>7043.000000</td>\n",
       "    </tr>\n",
       "    <tr>\n",
       "      <th>mean</th>\n",
       "      <td>0.162147</td>\n",
       "      <td>32.371149</td>\n",
       "      <td>64.761692</td>\n",
       "      <td>2279.816378</td>\n",
       "    </tr>\n",
       "    <tr>\n",
       "      <th>std</th>\n",
       "      <td>0.368612</td>\n",
       "      <td>24.559481</td>\n",
       "      <td>30.090047</td>\n",
       "      <td>2266.712864</td>\n",
       "    </tr>\n",
       "    <tr>\n",
       "      <th>min</th>\n",
       "      <td>0.000000</td>\n",
       "      <td>0.000000</td>\n",
       "      <td>18.250000</td>\n",
       "      <td>18.800000</td>\n",
       "    </tr>\n",
       "    <tr>\n",
       "      <th>25%</th>\n",
       "      <td>0.000000</td>\n",
       "      <td>9.000000</td>\n",
       "      <td>35.500000</td>\n",
       "      <td>398.550000</td>\n",
       "    </tr>\n",
       "    <tr>\n",
       "      <th>50%</th>\n",
       "      <td>0.000000</td>\n",
       "      <td>29.000000</td>\n",
       "      <td>70.350000</td>\n",
       "      <td>1394.550000</td>\n",
       "    </tr>\n",
       "    <tr>\n",
       "      <th>75%</th>\n",
       "      <td>0.000000</td>\n",
       "      <td>55.000000</td>\n",
       "      <td>89.850000</td>\n",
       "      <td>3786.600000</td>\n",
       "    </tr>\n",
       "    <tr>\n",
       "      <th>max</th>\n",
       "      <td>1.000000</td>\n",
       "      <td>72.000000</td>\n",
       "      <td>118.750000</td>\n",
       "      <td>8684.800000</td>\n",
       "    </tr>\n",
       "  </tbody>\n",
       "</table>\n",
       "</div>"
      ],
      "text/plain": [
       "       SeniorCitizen       tenure  MonthlyCharges  TotalCharges\n",
       "count    7043.000000  7043.000000     7043.000000   7043.000000\n",
       "mean        0.162147    32.371149       64.761692   2279.816378\n",
       "std         0.368612    24.559481       30.090047   2266.712864\n",
       "min         0.000000     0.000000       18.250000     18.800000\n",
       "25%         0.000000     9.000000       35.500000    398.550000\n",
       "50%         0.000000    29.000000       70.350000   1394.550000\n",
       "75%         0.000000    55.000000       89.850000   3786.600000\n",
       "max         1.000000    72.000000      118.750000   8684.800000"
      ]
     },
     "execution_count": 147,
     "metadata": {},
     "output_type": "execute_result"
    }
   ],
   "source": [
    "customer.describe()"
   ]
  },
  {
   "cell_type": "markdown",
   "metadata": {},
   "source": [
    "The values shown on table match with those on the graphs above.\n",
    "\n",
    "Tenure - the minimum is zero and the maximum is 72.\n",
    "\n",
    "MonthlyCharges - The monthly charges have a minimum of 18.25. The mean is about 65 and the median is 70.\n",
    "\n",
    "TotalCharges - The minimum Total Charge is 18.80, however the maximum is goes up to 8684."
   ]
  },
  {
   "cell_type": "code",
   "execution_count": 159,
   "metadata": {},
   "outputs": [
    {
     "data": {
      "image/png": "[encoded data removed]",
      "text/plain": [
       "<Figure size 720x288 with 2 Axes>"
      ]
     },
     "metadata": {},
     "output_type": "display_data"
    }
   ],
   "source": [
    "# Visualization\n",
    "\n",
    "fig, axs = plt.subplots(1,2, figsize=(10,4))\n",
    "seaborn.countplot(x=\"MultipleLines\", hue=\"Churn\", data=customer, ax=axs[0])\n",
    "axs[0].set_title(\"Distribution of Multiple Lines\")\n",
    "\n",
    "seaborn.countplot(x=\"Contract\", hue=\"Churn\", data=customer, ax=axs[1])\n",
    "\n",
    "plt.title(\"Type of Contract\")\n",
    "\n",
    "fig.tight_layout()"
   ]
  },
  {
   "cell_type": "code",
   "execution_count": 156,
   "metadata": {},
   "outputs": [
    {
     "data": {
      "image/png": "[encoded data removed]",
      "text/plain": [
       "<Figure size 720x288 with 2 Axes>"
      ]
     },
     "metadata": {},
     "output_type": "display_data"
    }
   ],
   "source": [
    "# More visualization\n",
    "fig, axs = plt.subplots(1,2, figsize=(10,4))\n",
    "seaborn.countplot(x=\"DeviceProtection\", hue=\"Churn\", data=customer, ax=axs[0])\n",
    "axs[0].set_title(\"Distribution of Device Protection\")\n",
    "\n",
    "seaborn.countplot(x=\"TechSupport\", hue=\"Churn\", data=customer, ax=axs[1])\n",
    "plt.title(\"Distribution of Tech Support\")\n",
    "\n",
    "fig.tight_layout()"
   ]
  },
  {
   "cell_type": "code",
   "execution_count": 157,
   "metadata": {},
   "outputs": [
    {
     "data": {
      "image/png": "[encoded data removed]",
      "text/plain": [
       "<Figure size 720x288 with 2 Axes>"
      ]
     },
     "metadata": {},
     "output_type": "display_data"
    }
   ],
   "source": [
    "# More visualization\n",
    "fig, axs = plt.subplots(1,2, figsize=(10,4))\n",
    "seaborn.countplot(x=\"InternetService\", hue=\"Churn\", data=customer, ax=axs[0])\n",
    "axs[0].set_title(\"Distribution of Internet Service\")\n",
    "\n",
    "seaborn.countplot(x=\"OnlineSecurity\", hue=\"Churn\", data=customer, ax=axs[1])\n",
    "plt.title(\"Distribution of Online Security\")\n",
    "\n",
    "fig.tight_layout()"
   ]
  },
  {
   "cell_type": "code",
   "execution_count": 158,
   "metadata": {},
   "outputs": [
    {
     "data": {
      "image/png": "[encoded data removed]",
      "text/plain": [
       "<Figure size 720x288 with 2 Axes>"
      ]
     },
     "metadata": {},
     "output_type": "display_data"
    }
   ],
   "source": [
    "# More visualization\n",
    "fig, axs = plt.subplots(1,2, figsize=(10,4))\n",
    "seaborn.countplot(x=\"StreamingTV\", hue=\"Churn\", data=customer, ax=axs[0])\n",
    "axs[0].set_title(\"Distribution of Streaming TV\")\n",
    "\n",
    "seaborn.countplot(x=\"StreamingMovies\", hue=\"Churn\", data=customer, ax=axs[1])\n",
    "plt.title(\"Distribution of Streaming Movies\")\n",
    "\n",
    "fig.tight_layout()"
   ]
  },
  {
   "cell_type": "markdown",
   "metadata": {},
   "source": [
    "### Notes\n",
    "\n",
    "From the graphs above:\n",
    "\n",
    "MultipleLines - The graph shows that was of those that had phone service, almost the same number of customer churned, irrespective of whether they had multiple lines or not. \n",
    "\n",
    "Contract - more customers with month-to-month contract churned more than those with one or two year contract. Customer with the Two year contract had the least churn, maybe because the customers were tied by the contract. \n",
    "\n",
    "Device Protect and TechSupport - However, having Device protection and Tech Support played an important role in whether a customer churned or not. There was a high number of customers without device protection who churned compared to those that had device protection. Similarly, way more customers without Tech Support churned compared to those that had Tech Support.\n",
    "\n",
    "Internet Service - Many customers using Fiber Optic internet churned. \n",
    "\n",
    "OnlineSecurity - Many customers without Online Security churned or exited. \n",
    "\n",
    "StreamingTV and StreamingMovies - Of the customers who had subscribed for internet service those who did not stream TV or movies churned more than those who stream TV or movies. \n"
   ]
  },
  {
   "cell_type": "markdown",
   "metadata": {},
   "source": [
    "# Cleaning and Preparation"
   ]
  },
  {
   "cell_type": "markdown",
   "metadata": {},
   "source": [
    "## Cleaning Data"
   ]
  },
  {
   "cell_type": "markdown",
   "metadata": {},
   "source": [
    "#### Missing Values"
   ]
  },
  {
   "cell_type": "code",
   "execution_count": 2,
   "metadata": {
    "scrolled": true
   },
   "outputs": [
    {
     "name": "stdout",
     "output_type": "stream",
     "text": [
      "<class 'pandas.core.frame.DataFrame'>\n",
      "RangeIndex: 7043 entries, 0 to 7042\n",
      "Data columns (total 21 columns):\n",
      " #   Column            Non-Null Count  Dtype  \n",
      "---  ------            --------------  -----  \n",
      " 0   customerID        7043 non-null   object \n",
      " 1   gender            7043 non-null   object \n",
      " 2   SeniorCitizen     7043 non-null   int64  \n",
      " 3   Partner           7043 non-null   object \n",
      " 4   Dependents        7043 non-null   object \n",
      " 5   tenure            7043 non-null   int64  \n",
      " 6   PhoneService      7043 non-null   object \n",
      " 7   MultipleLines     7043 non-null   object \n",
      " 8   InternetService   7043 non-null   object \n",
      " 9   OnlineSecurity    7043 non-null   object \n",
      " 10  OnlineBackup      7043 non-null   object \n",
      " 11  DeviceProtection  7043 non-null   object \n",
      " 12  TechSupport       7043 non-null   object \n",
      " 13  StreamingTV       7043 non-null   object \n",
      " 14  StreamingMovies   7043 non-null   object \n",
      " 15  Contract          7043 non-null   object \n",
      " 16  PaperlessBilling  7043 non-null   object \n",
      " 17  PaymentMethod     7043 non-null   object \n",
      " 18  MonthlyCharges    7043 non-null   float64\n",
      " 19  TotalCharges      7043 non-null   object \n",
      " 20  Churn             7043 non-null   object \n",
      "dtypes: float64(1), int64(2), object(18)\n",
      "memory usage: 660.3+ KB\n"
     ]
    }
   ],
   "source": [
    "customer.info()"
   ]
  },
  {
   "cell_type": "markdown",
   "metadata": {},
   "source": [
    "There are no missing values.\n",
    "\n",
    "The column `MonthlyCharges` is a float. The columns `SeniorCitizen` and `tenure` are integers. The rest of the columns are objects.\n",
    "\n",
    "The column `TotalCharges` is put in as a object it supposed to be a float. So that will be changed."
   ]
  },
  {
   "cell_type": "markdown",
   "metadata": {},
   "source": [
    "#### Remove Whitespace"
   ]
  },
  {
   "cell_type": "code",
   "execution_count": 5,
   "metadata": {},
   "outputs": [],
   "source": [
    "# Remove white space in columns\n",
    "\n",
    "customer.MultipleLines=customer.MultipleLines.str.strip().str.replace(' ','')"
   ]
  },
  {
   "cell_type": "code",
   "execution_count": 6,
   "metadata": {},
   "outputs": [],
   "source": [
    "# Remove white space from columns\n",
    "\n",
    "cols = ['InternetService','OnlineSecurity','OnlineBackup','DeviceProtection','TechSupport','StreamingTV','StreamingMovies']\n",
    "\n",
    "for i in cols:\n",
    "    customer[i] = customer[i].str.strip().str.replace(' ','')"
   ]
  },
  {
   "cell_type": "code",
   "execution_count": 7,
   "metadata": {
    "scrolled": true
   },
   "outputs": [
    {
     "data": {
      "text/plain": [
       "No                3390\n",
       "Yes               2971\n",
       "Nophoneservice     682\n",
       "Name: MultipleLines, dtype: int64"
      ]
     },
     "execution_count": 7,
     "metadata": {},
     "output_type": "execute_result"
    }
   ],
   "source": [
    "# Check columns\n",
    "\n",
    "customer[\"MultipleLines\"].value_counts()"
   ]
  },
  {
   "cell_type": "code",
   "execution_count": 8,
   "metadata": {},
   "outputs": [
    {
     "data": {
      "text/plain": [
       "No                   3473\n",
       "Yes                  2044\n",
       "Nointernetservice    1526\n",
       "Name: TechSupport, dtype: int64"
      ]
     },
     "execution_count": 8,
     "metadata": {},
     "output_type": "execute_result"
    }
   ],
   "source": [
    "customer[\"TechSupport\"].value_counts()"
   ]
  },
  {
   "cell_type": "markdown",
   "metadata": {},
   "source": [
    "Now we see that there is no white space."
   ]
  },
  {
   "cell_type": "code",
   "execution_count": 9,
   "metadata": {},
   "outputs": [],
   "source": [
    "customer.Contract=customer.Contract.str.strip().str.replace(' ','')"
   ]
  },
  {
   "cell_type": "code",
   "execution_count": 10,
   "metadata": {},
   "outputs": [],
   "source": [
    "# Remove parenthesis\n",
    "customer.PaymentMethod=customer.PaymentMethod.str.replace(r\"\\(.*\\)\",'').str.strip()"
   ]
  },
  {
   "cell_type": "code",
   "execution_count": 11,
   "metadata": {},
   "outputs": [],
   "source": [
    "# replace long descriptions with shorter ones\n",
    "\n",
    "customer.PaymentMethod=customer.PaymentMethod.str.strip().str.replace('Electronic check','Electronic')\n",
    "customer.PaymentMethod=customer.PaymentMethod.str.strip().str.replace('Mailed check','Mail')\n",
    "customer.PaymentMethod=customer.PaymentMethod.str.strip().str.replace('Bank transfer','Banktransfer')\n",
    "customer.PaymentMethod=customer.PaymentMethod.str.strip().str.replace('Credit card','Credit')"
   ]
  },
  {
   "cell_type": "code",
   "execution_count": 12,
   "metadata": {},
   "outputs": [
    {
     "data": {
      "text/plain": [
       "Electronic      2365\n",
       "Mail            1612\n",
       "Banktransfer    1544\n",
       "Credit          1522\n",
       "Name: PaymentMethod, dtype: int64"
      ]
     },
     "execution_count": 12,
     "metadata": {},
     "output_type": "execute_result"
    }
   ],
   "source": [
    "customer[\"PaymentMethod\"].value_counts()"
   ]
  },
  {
   "cell_type": "code",
   "execution_count": 13,
   "metadata": {},
   "outputs": [
    {
     "data": {
      "text/html": [
       "<div>\n",
       "<style scoped>\n",
       "    .dataframe tbody tr th:only-of-type {\n",
       "        vertical-align: middle;\n",
       "    }\n",
       "\n",
       "    .dataframe tbody tr th {\n",
       "        vertical-align: top;\n",
       "    }\n",
       "\n",
       "    .dataframe thead th {\n",
       "        text-align: right;\n",
       "    }\n",
       "</style>\n",
       "<table border=\"1\" class=\"dataframe\">\n",
       "  <thead>\n",
       "    <tr style=\"text-align: right;\">\n",
       "      <th></th>\n",
       "      <th>customerID</th>\n",
       "      <th>gender</th>\n",
       "      <th>SeniorCitizen</th>\n",
       "      <th>Partner</th>\n",
       "      <th>Dependents</th>\n",
       "      <th>tenure</th>\n",
       "      <th>PhoneService</th>\n",
       "      <th>MultipleLines</th>\n",
       "      <th>InternetService</th>\n",
       "      <th>OnlineSecurity</th>\n",
       "      <th>...</th>\n",
       "      <th>DeviceProtection</th>\n",
       "      <th>TechSupport</th>\n",
       "      <th>StreamingTV</th>\n",
       "      <th>StreamingMovies</th>\n",
       "      <th>Contract</th>\n",
       "      <th>PaperlessBilling</th>\n",
       "      <th>PaymentMethod</th>\n",
       "      <th>MonthlyCharges</th>\n",
       "      <th>TotalCharges</th>\n",
       "      <th>Churn</th>\n",
       "    </tr>\n",
       "  </thead>\n",
       "  <tbody>\n",
       "    <tr>\n",
       "      <th>0</th>\n",
       "      <td>7590-VHVEG</td>\n",
       "      <td>Female</td>\n",
       "      <td>0</td>\n",
       "      <td>Yes</td>\n",
       "      <td>No</td>\n",
       "      <td>1</td>\n",
       "      <td>No</td>\n",
       "      <td>Nophoneservice</td>\n",
       "      <td>DSL</td>\n",
       "      <td>No</td>\n",
       "      <td>...</td>\n",
       "      <td>No</td>\n",
       "      <td>No</td>\n",
       "      <td>No</td>\n",
       "      <td>No</td>\n",
       "      <td>Month-to-month</td>\n",
       "      <td>Yes</td>\n",
       "      <td>Electronic</td>\n",
       "      <td>29.85</td>\n",
       "      <td>29.85</td>\n",
       "      <td>No</td>\n",
       "    </tr>\n",
       "    <tr>\n",
       "      <th>1</th>\n",
       "      <td>5575-GNVDE</td>\n",
       "      <td>Male</td>\n",
       "      <td>0</td>\n",
       "      <td>No</td>\n",
       "      <td>No</td>\n",
       "      <td>34</td>\n",
       "      <td>Yes</td>\n",
       "      <td>No</td>\n",
       "      <td>DSL</td>\n",
       "      <td>Yes</td>\n",
       "      <td>...</td>\n",
       "      <td>Yes</td>\n",
       "      <td>No</td>\n",
       "      <td>No</td>\n",
       "      <td>No</td>\n",
       "      <td>Oneyear</td>\n",
       "      <td>No</td>\n",
       "      <td>Mail</td>\n",
       "      <td>56.95</td>\n",
       "      <td>1889.5</td>\n",
       "      <td>No</td>\n",
       "    </tr>\n",
       "    <tr>\n",
       "      <th>2</th>\n",
       "      <td>3668-QPYBK</td>\n",
       "      <td>Male</td>\n",
       "      <td>0</td>\n",
       "      <td>No</td>\n",
       "      <td>No</td>\n",
       "      <td>2</td>\n",
       "      <td>Yes</td>\n",
       "      <td>No</td>\n",
       "      <td>DSL</td>\n",
       "      <td>Yes</td>\n",
       "      <td>...</td>\n",
       "      <td>No</td>\n",
       "      <td>No</td>\n",
       "      <td>No</td>\n",
       "      <td>No</td>\n",
       "      <td>Month-to-month</td>\n",
       "      <td>Yes</td>\n",
       "      <td>Mail</td>\n",
       "      <td>53.85</td>\n",
       "      <td>108.15</td>\n",
       "      <td>Yes</td>\n",
       "    </tr>\n",
       "    <tr>\n",
       "      <th>3</th>\n",
       "      <td>7795-CFOCW</td>\n",
       "      <td>Male</td>\n",
       "      <td>0</td>\n",
       "      <td>No</td>\n",
       "      <td>No</td>\n",
       "      <td>45</td>\n",
       "      <td>No</td>\n",
       "      <td>Nophoneservice</td>\n",
       "      <td>DSL</td>\n",
       "      <td>Yes</td>\n",
       "      <td>...</td>\n",
       "      <td>Yes</td>\n",
       "      <td>Yes</td>\n",
       "      <td>No</td>\n",
       "      <td>No</td>\n",
       "      <td>Oneyear</td>\n",
       "      <td>No</td>\n",
       "      <td>Banktransfer</td>\n",
       "      <td>42.30</td>\n",
       "      <td>1840.75</td>\n",
       "      <td>No</td>\n",
       "    </tr>\n",
       "    <tr>\n",
       "      <th>4</th>\n",
       "      <td>9237-HQITU</td>\n",
       "      <td>Female</td>\n",
       "      <td>0</td>\n",
       "      <td>No</td>\n",
       "      <td>No</td>\n",
       "      <td>2</td>\n",
       "      <td>Yes</td>\n",
       "      <td>No</td>\n",
       "      <td>Fiberoptic</td>\n",
       "      <td>No</td>\n",
       "      <td>...</td>\n",
       "      <td>No</td>\n",
       "      <td>No</td>\n",
       "      <td>No</td>\n",
       "      <td>No</td>\n",
       "      <td>Month-to-month</td>\n",
       "      <td>Yes</td>\n",
       "      <td>Electronic</td>\n",
       "      <td>70.70</td>\n",
       "      <td>151.65</td>\n",
       "      <td>Yes</td>\n",
       "    </tr>\n",
       "  </tbody>\n",
       "</table>\n",
       "<p>5 rows × 21 columns</p>\n",
       "</div>"
      ],
      "text/plain": [
       "   customerID  gender  SeniorCitizen Partner Dependents  tenure PhoneService  \\\n",
       "0  7590-VHVEG  Female              0     Yes         No       1           No   \n",
       "1  5575-GNVDE    Male              0      No         No      34          Yes   \n",
       "2  3668-QPYBK    Male              0      No         No       2          Yes   \n",
       "3  7795-CFOCW    Male              0      No         No      45           No   \n",
       "4  9237-HQITU  Female              0      No         No       2          Yes   \n",
       "\n",
       "    MultipleLines InternetService OnlineSecurity  ... DeviceProtection  \\\n",
       "0  Nophoneservice             DSL             No  ...               No   \n",
       "1              No             DSL            Yes  ...              Yes   \n",
       "2              No             DSL            Yes  ...               No   \n",
       "3  Nophoneservice             DSL            Yes  ...              Yes   \n",
       "4              No      Fiberoptic             No  ...               No   \n",
       "\n",
       "  TechSupport StreamingTV StreamingMovies        Contract PaperlessBilling  \\\n",
       "0          No          No              No  Month-to-month              Yes   \n",
       "1          No          No              No         Oneyear               No   \n",
       "2          No          No              No  Month-to-month              Yes   \n",
       "3         Yes          No              No         Oneyear               No   \n",
       "4          No          No              No  Month-to-month              Yes   \n",
       "\n",
       "  PaymentMethod MonthlyCharges  TotalCharges Churn  \n",
       "0    Electronic          29.85         29.85    No  \n",
       "1          Mail          56.95        1889.5    No  \n",
       "2          Mail          53.85        108.15   Yes  \n",
       "3  Banktransfer          42.30       1840.75    No  \n",
       "4    Electronic          70.70        151.65   Yes  \n",
       "\n",
       "[5 rows x 21 columns]"
      ]
     },
     "execution_count": 13,
     "metadata": {},
     "output_type": "execute_result"
    }
   ],
   "source": [
    "customer.head()"
   ]
  },
  {
   "cell_type": "markdown",
   "metadata": {},
   "source": [
    "#### Change from Object to Float\n",
    "\n",
    "The `TotalCharges` column needs to be changed from object to float."
   ]
  },
  {
   "cell_type": "markdown",
   "metadata": {},
   "source": [
    "#### Anomalies\n",
    "\n",
    "First we need to correct the anomaly"
   ]
  },
  {
   "cell_type": "code",
   "execution_count": 14,
   "metadata": {},
   "outputs": [
    {
     "data": {
      "text/plain": [
       "' '"
      ]
     },
     "execution_count": 14,
     "metadata": {},
     "output_type": "execute_result"
    }
   ],
   "source": [
    "# Find anomaly\n",
    "customer.iloc[488].TotalCharges"
   ]
  },
  {
   "cell_type": "code",
   "execution_count": 15,
   "metadata": {},
   "outputs": [
    {
     "data": {
      "text/plain": [
       "customerID              4472-LVYGI\n",
       "gender                      Female\n",
       "SeniorCitizen                    0\n",
       "Partner                        Yes\n",
       "Dependents                     Yes\n",
       "tenure                           0\n",
       "PhoneService                    No\n",
       "MultipleLines       Nophoneservice\n",
       "InternetService                DSL\n",
       "OnlineSecurity                 Yes\n",
       "OnlineBackup                    No\n",
       "DeviceProtection               Yes\n",
       "TechSupport                    Yes\n",
       "StreamingTV                    Yes\n",
       "StreamingMovies                 No\n",
       "Contract                   Twoyear\n",
       "PaperlessBilling               Yes\n",
       "PaymentMethod         Banktransfer\n",
       "MonthlyCharges               52.55\n",
       "TotalCharges                      \n",
       "Churn                           No\n",
       "Name: 488, dtype: object"
      ]
     },
     "execution_count": 15,
     "metadata": {},
     "output_type": "execute_result"
    }
   ],
   "source": [
    "customer.loc[(488)]"
   ]
  },
  {
   "cell_type": "code",
   "execution_count": 16,
   "metadata": {},
   "outputs": [],
   "source": [
    "# We fill in the missing value with the Monthly Charge value\n",
    "\n",
    "customer[\"TotalCharges\"]=customer[\"TotalCharges\"].replace(' ',\"52.55\")"
   ]
  },
  {
   "cell_type": "code",
   "execution_count": 17,
   "metadata": {},
   "outputs": [
    {
     "data": {
      "text/plain": [
       "'52.55'"
      ]
     },
     "execution_count": 17,
     "metadata": {},
     "output_type": "execute_result"
    }
   ],
   "source": [
    "# Check the value again\n",
    "# We see it is now filled\n",
    "\n",
    "customer.iloc[488].TotalCharges"
   ]
  },
  {
   "cell_type": "code",
   "execution_count": 18,
   "metadata": {},
   "outputs": [],
   "source": [
    "# Proceed to change from object to float\n",
    "\n",
    "customer[\"TotalCharges\"]=pd.to_numeric(customer[\"TotalCharges\"])"
   ]
  },
  {
   "cell_type": "code",
   "execution_count": 144,
   "metadata": {},
   "outputs": [
    {
     "data": {
      "text/plain": [
       "dtype('float64')"
      ]
     },
     "execution_count": 144,
     "metadata": {},
     "output_type": "execute_result"
    }
   ],
   "source": [
    "customer.TotalCharges.dtypes"
   ]
  },
  {
   "cell_type": "markdown",
   "metadata": {},
   "source": [
    "Now we see that the column `TotalCharges` is now float and not object."
   ]
  },
  {
   "cell_type": "markdown",
   "metadata": {},
   "source": [
    "#### Outliers\n",
    "\n",
    "Check for outliers. The graphs below show there are no outliers."
   ]
  },
  {
   "cell_type": "code",
   "execution_count": 18,
   "metadata": {},
   "outputs": [
    {
     "data": {
      "text/plain": [
       "SeniorCitizen        AxesSubplot(0.125,0.125;0.168478x0.755)\n",
       "tenure            AxesSubplot(0.327174,0.125;0.168478x0.755)\n",
       "MonthlyCharges    AxesSubplot(0.529348,0.125;0.168478x0.755)\n",
       "TotalCharges      AxesSubplot(0.731522,0.125;0.168478x0.755)\n",
       "dtype: object"
      ]
     },
     "execution_count": 18,
     "metadata": {},
     "output_type": "execute_result"
    },
    {
     "data": {
      "image/png": "[encoded data removed]",
      "text/plain": [
       "<Figure size 864x432 with 4 Axes>"
      ]
     },
     "metadata": {},
     "output_type": "display_data"
    }
   ],
   "source": [
    "customer.plot(kind=\"box\", figsize=(12,6), layout=(1,4), subplots=True)"
   ]
  },
  {
   "cell_type": "markdown",
   "metadata": {},
   "source": [
    "## Preparation"
   ]
  },
  {
   "cell_type": "markdown",
   "metadata": {},
   "source": [
    "#### Features"
   ]
  },
  {
   "cell_type": "markdown",
   "metadata": {},
   "source": [
    "#### Drop Columns"
   ]
  },
  {
   "cell_type": "markdown",
   "metadata": {},
   "source": [
    "The columns `CustomerID` is not needed to determine if a customer churns or not and there will be deleted."
   ]
  },
  {
   "cell_type": "code",
   "execution_count": 19,
   "metadata": {},
   "outputs": [],
   "source": [
    "customer=customer.drop('customerID', axis=1)"
   ]
  },
  {
   "cell_type": "code",
   "execution_count": 20,
   "metadata": {},
   "outputs": [
    {
     "data": {
      "text/html": [
       "<div>\n",
       "<style scoped>\n",
       "    .dataframe tbody tr th:only-of-type {\n",
       "        vertical-align: middle;\n",
       "    }\n",
       "\n",
       "    .dataframe tbody tr th {\n",
       "        vertical-align: top;\n",
       "    }\n",
       "\n",
       "    .dataframe thead th {\n",
       "        text-align: right;\n",
       "    }\n",
       "</style>\n",
       "<table border=\"1\" class=\"dataframe\">\n",
       "  <thead>\n",
       "    <tr style=\"text-align: right;\">\n",
       "      <th></th>\n",
       "      <th>gender</th>\n",
       "      <th>SeniorCitizen</th>\n",
       "      <th>Partner</th>\n",
       "      <th>Dependents</th>\n",
       "      <th>tenure</th>\n",
       "      <th>PhoneService</th>\n",
       "      <th>MultipleLines</th>\n",
       "      <th>InternetService</th>\n",
       "      <th>OnlineSecurity</th>\n",
       "      <th>OnlineBackup</th>\n",
       "      <th>DeviceProtection</th>\n",
       "      <th>TechSupport</th>\n",
       "      <th>StreamingTV</th>\n",
       "      <th>StreamingMovies</th>\n",
       "      <th>Contract</th>\n",
       "      <th>PaperlessBilling</th>\n",
       "      <th>PaymentMethod</th>\n",
       "      <th>MonthlyCharges</th>\n",
       "      <th>TotalCharges</th>\n",
       "      <th>Churn</th>\n",
       "    </tr>\n",
       "  </thead>\n",
       "  <tbody>\n",
       "    <tr>\n",
       "      <th>0</th>\n",
       "      <td>Female</td>\n",
       "      <td>0</td>\n",
       "      <td>Yes</td>\n",
       "      <td>No</td>\n",
       "      <td>1</td>\n",
       "      <td>No</td>\n",
       "      <td>Nophoneservice</td>\n",
       "      <td>DSL</td>\n",
       "      <td>No</td>\n",
       "      <td>Yes</td>\n",
       "      <td>No</td>\n",
       "      <td>No</td>\n",
       "      <td>No</td>\n",
       "      <td>No</td>\n",
       "      <td>Month-to-month</td>\n",
       "      <td>Yes</td>\n",
       "      <td>Electronic</td>\n",
       "      <td>29.85</td>\n",
       "      <td>29.85</td>\n",
       "      <td>No</td>\n",
       "    </tr>\n",
       "    <tr>\n",
       "      <th>1</th>\n",
       "      <td>Male</td>\n",
       "      <td>0</td>\n",
       "      <td>No</td>\n",
       "      <td>No</td>\n",
       "      <td>34</td>\n",
       "      <td>Yes</td>\n",
       "      <td>No</td>\n",
       "      <td>DSL</td>\n",
       "      <td>Yes</td>\n",
       "      <td>No</td>\n",
       "      <td>Yes</td>\n",
       "      <td>No</td>\n",
       "      <td>No</td>\n",
       "      <td>No</td>\n",
       "      <td>Oneyear</td>\n",
       "      <td>No</td>\n",
       "      <td>Mail</td>\n",
       "      <td>56.95</td>\n",
       "      <td>1889.50</td>\n",
       "      <td>No</td>\n",
       "    </tr>\n",
       "    <tr>\n",
       "      <th>2</th>\n",
       "      <td>Male</td>\n",
       "      <td>0</td>\n",
       "      <td>No</td>\n",
       "      <td>No</td>\n",
       "      <td>2</td>\n",
       "      <td>Yes</td>\n",
       "      <td>No</td>\n",
       "      <td>DSL</td>\n",
       "      <td>Yes</td>\n",
       "      <td>Yes</td>\n",
       "      <td>No</td>\n",
       "      <td>No</td>\n",
       "      <td>No</td>\n",
       "      <td>No</td>\n",
       "      <td>Month-to-month</td>\n",
       "      <td>Yes</td>\n",
       "      <td>Mail</td>\n",
       "      <td>53.85</td>\n",
       "      <td>108.15</td>\n",
       "      <td>Yes</td>\n",
       "    </tr>\n",
       "    <tr>\n",
       "      <th>3</th>\n",
       "      <td>Male</td>\n",
       "      <td>0</td>\n",
       "      <td>No</td>\n",
       "      <td>No</td>\n",
       "      <td>45</td>\n",
       "      <td>No</td>\n",
       "      <td>Nophoneservice</td>\n",
       "      <td>DSL</td>\n",
       "      <td>Yes</td>\n",
       "      <td>No</td>\n",
       "      <td>Yes</td>\n",
       "      <td>Yes</td>\n",
       "      <td>No</td>\n",
       "      <td>No</td>\n",
       "      <td>Oneyear</td>\n",
       "      <td>No</td>\n",
       "      <td>Banktransfer</td>\n",
       "      <td>42.30</td>\n",
       "      <td>1840.75</td>\n",
       "      <td>No</td>\n",
       "    </tr>\n",
       "    <tr>\n",
       "      <th>4</th>\n",
       "      <td>Female</td>\n",
       "      <td>0</td>\n",
       "      <td>No</td>\n",
       "      <td>No</td>\n",
       "      <td>2</td>\n",
       "      <td>Yes</td>\n",
       "      <td>No</td>\n",
       "      <td>Fiberoptic</td>\n",
       "      <td>No</td>\n",
       "      <td>No</td>\n",
       "      <td>No</td>\n",
       "      <td>No</td>\n",
       "      <td>No</td>\n",
       "      <td>No</td>\n",
       "      <td>Month-to-month</td>\n",
       "      <td>Yes</td>\n",
       "      <td>Electronic</td>\n",
       "      <td>70.70</td>\n",
       "      <td>151.65</td>\n",
       "      <td>Yes</td>\n",
       "    </tr>\n",
       "  </tbody>\n",
       "</table>\n",
       "</div>"
      ],
      "text/plain": [
       "   gender  SeniorCitizen Partner Dependents  tenure PhoneService  \\\n",
       "0  Female              0     Yes         No       1           No   \n",
       "1    Male              0      No         No      34          Yes   \n",
       "2    Male              0      No         No       2          Yes   \n",
       "3    Male              0      No         No      45           No   \n",
       "4  Female              0      No         No       2          Yes   \n",
       "\n",
       "    MultipleLines InternetService OnlineSecurity OnlineBackup  \\\n",
       "0  Nophoneservice             DSL             No          Yes   \n",
       "1              No             DSL            Yes           No   \n",
       "2              No             DSL            Yes          Yes   \n",
       "3  Nophoneservice             DSL            Yes           No   \n",
       "4              No      Fiberoptic             No           No   \n",
       "\n",
       "  DeviceProtection TechSupport StreamingTV StreamingMovies        Contract  \\\n",
       "0               No          No          No              No  Month-to-month   \n",
       "1              Yes          No          No              No         Oneyear   \n",
       "2               No          No          No              No  Month-to-month   \n",
       "3              Yes         Yes          No              No         Oneyear   \n",
       "4               No          No          No              No  Month-to-month   \n",
       "\n",
       "  PaperlessBilling PaymentMethod  MonthlyCharges  TotalCharges Churn  \n",
       "0              Yes    Electronic           29.85         29.85    No  \n",
       "1               No          Mail           56.95       1889.50    No  \n",
       "2              Yes          Mail           53.85        108.15   Yes  \n",
       "3               No  Banktransfer           42.30       1840.75    No  \n",
       "4              Yes    Electronic           70.70        151.65   Yes  "
      ]
     },
     "execution_count": 20,
     "metadata": {},
     "output_type": "execute_result"
    }
   ],
   "source": [
    "customer.head()"
   ]
  },
  {
   "cell_type": "markdown",
   "metadata": {},
   "source": [
    "### Define X and y variables"
   ]
  },
  {
   "cell_type": "markdown",
   "metadata": {},
   "source": [
    "Our target variable is the column \"Churn\". That is if a customer will churn or not."
   ]
  },
  {
   "cell_type": "code",
   "execution_count": 21,
   "metadata": {},
   "outputs": [],
   "source": [
    "y = customer.loc[:, \"Churn\"]"
   ]
  },
  {
   "cell_type": "code",
   "execution_count": 22,
   "metadata": {},
   "outputs": [],
   "source": [
    "X = customer.loc[:, \"gender\":\"TotalCharges\"]"
   ]
  },
  {
   "cell_type": "code",
   "execution_count": 23,
   "metadata": {},
   "outputs": [
    {
     "data": {
      "text/html": [
       "<div>\n",
       "<style scoped>\n",
       "    .dataframe tbody tr th:only-of-type {\n",
       "        vertical-align: middle;\n",
       "    }\n",
       "\n",
       "    .dataframe tbody tr th {\n",
       "        vertical-align: top;\n",
       "    }\n",
       "\n",
       "    .dataframe thead th {\n",
       "        text-align: right;\n",
       "    }\n",
       "</style>\n",
       "<table border=\"1\" class=\"dataframe\">\n",
       "  <thead>\n",
       "    <tr style=\"text-align: right;\">\n",
       "      <th></th>\n",
       "      <th>gender</th>\n",
       "      <th>SeniorCitizen</th>\n",
       "      <th>Partner</th>\n",
       "      <th>Dependents</th>\n",
       "      <th>tenure</th>\n",
       "      <th>PhoneService</th>\n",
       "      <th>MultipleLines</th>\n",
       "      <th>InternetService</th>\n",
       "      <th>OnlineSecurity</th>\n",
       "      <th>OnlineBackup</th>\n",
       "      <th>DeviceProtection</th>\n",
       "      <th>TechSupport</th>\n",
       "      <th>StreamingTV</th>\n",
       "      <th>StreamingMovies</th>\n",
       "      <th>Contract</th>\n",
       "      <th>PaperlessBilling</th>\n",
       "      <th>PaymentMethod</th>\n",
       "      <th>MonthlyCharges</th>\n",
       "      <th>TotalCharges</th>\n",
       "    </tr>\n",
       "  </thead>\n",
       "  <tbody>\n",
       "    <tr>\n",
       "      <th>0</th>\n",
       "      <td>Female</td>\n",
       "      <td>0</td>\n",
       "      <td>Yes</td>\n",
       "      <td>No</td>\n",
       "      <td>1</td>\n",
       "      <td>No</td>\n",
       "      <td>Nophoneservice</td>\n",
       "      <td>DSL</td>\n",
       "      <td>No</td>\n",
       "      <td>Yes</td>\n",
       "      <td>No</td>\n",
       "      <td>No</td>\n",
       "      <td>No</td>\n",
       "      <td>No</td>\n",
       "      <td>Month-to-month</td>\n",
       "      <td>Yes</td>\n",
       "      <td>Electronic</td>\n",
       "      <td>29.85</td>\n",
       "      <td>29.85</td>\n",
       "    </tr>\n",
       "    <tr>\n",
       "      <th>1</th>\n",
       "      <td>Male</td>\n",
       "      <td>0</td>\n",
       "      <td>No</td>\n",
       "      <td>No</td>\n",
       "      <td>34</td>\n",
       "      <td>Yes</td>\n",
       "      <td>No</td>\n",
       "      <td>DSL</td>\n",
       "      <td>Yes</td>\n",
       "      <td>No</td>\n",
       "      <td>Yes</td>\n",
       "      <td>No</td>\n",
       "      <td>No</td>\n",
       "      <td>No</td>\n",
       "      <td>Oneyear</td>\n",
       "      <td>No</td>\n",
       "      <td>Mail</td>\n",
       "      <td>56.95</td>\n",
       "      <td>1889.50</td>\n",
       "    </tr>\n",
       "    <tr>\n",
       "      <th>2</th>\n",
       "      <td>Male</td>\n",
       "      <td>0</td>\n",
       "      <td>No</td>\n",
       "      <td>No</td>\n",
       "      <td>2</td>\n",
       "      <td>Yes</td>\n",
       "      <td>No</td>\n",
       "      <td>DSL</td>\n",
       "      <td>Yes</td>\n",
       "      <td>Yes</td>\n",
       "      <td>No</td>\n",
       "      <td>No</td>\n",
       "      <td>No</td>\n",
       "      <td>No</td>\n",
       "      <td>Month-to-month</td>\n",
       "      <td>Yes</td>\n",
       "      <td>Mail</td>\n",
       "      <td>53.85</td>\n",
       "      <td>108.15</td>\n",
       "    </tr>\n",
       "    <tr>\n",
       "      <th>3</th>\n",
       "      <td>Male</td>\n",
       "      <td>0</td>\n",
       "      <td>No</td>\n",
       "      <td>No</td>\n",
       "      <td>45</td>\n",
       "      <td>No</td>\n",
       "      <td>Nophoneservice</td>\n",
       "      <td>DSL</td>\n",
       "      <td>Yes</td>\n",
       "      <td>No</td>\n",
       "      <td>Yes</td>\n",
       "      <td>Yes</td>\n",
       "      <td>No</td>\n",
       "      <td>No</td>\n",
       "      <td>Oneyear</td>\n",
       "      <td>No</td>\n",
       "      <td>Banktransfer</td>\n",
       "      <td>42.30</td>\n",
       "      <td>1840.75</td>\n",
       "    </tr>\n",
       "    <tr>\n",
       "      <th>4</th>\n",
       "      <td>Female</td>\n",
       "      <td>0</td>\n",
       "      <td>No</td>\n",
       "      <td>No</td>\n",
       "      <td>2</td>\n",
       "      <td>Yes</td>\n",
       "      <td>No</td>\n",
       "      <td>Fiberoptic</td>\n",
       "      <td>No</td>\n",
       "      <td>No</td>\n",
       "      <td>No</td>\n",
       "      <td>No</td>\n",
       "      <td>No</td>\n",
       "      <td>No</td>\n",
       "      <td>Month-to-month</td>\n",
       "      <td>Yes</td>\n",
       "      <td>Electronic</td>\n",
       "      <td>70.70</td>\n",
       "      <td>151.65</td>\n",
       "    </tr>\n",
       "  </tbody>\n",
       "</table>\n",
       "</div>"
      ],
      "text/plain": [
       "   gender  SeniorCitizen Partner Dependents  tenure PhoneService  \\\n",
       "0  Female              0     Yes         No       1           No   \n",
       "1    Male              0      No         No      34          Yes   \n",
       "2    Male              0      No         No       2          Yes   \n",
       "3    Male              0      No         No      45           No   \n",
       "4  Female              0      No         No       2          Yes   \n",
       "\n",
       "    MultipleLines InternetService OnlineSecurity OnlineBackup  \\\n",
       "0  Nophoneservice             DSL             No          Yes   \n",
       "1              No             DSL            Yes           No   \n",
       "2              No             DSL            Yes          Yes   \n",
       "3  Nophoneservice             DSL            Yes           No   \n",
       "4              No      Fiberoptic             No           No   \n",
       "\n",
       "  DeviceProtection TechSupport StreamingTV StreamingMovies        Contract  \\\n",
       "0               No          No          No              No  Month-to-month   \n",
       "1              Yes          No          No              No         Oneyear   \n",
       "2               No          No          No              No  Month-to-month   \n",
       "3              Yes         Yes          No              No         Oneyear   \n",
       "4               No          No          No              No  Month-to-month   \n",
       "\n",
       "  PaperlessBilling PaymentMethod  MonthlyCharges  TotalCharges  \n",
       "0              Yes    Electronic           29.85         29.85  \n",
       "1               No          Mail           56.95       1889.50  \n",
       "2              Yes          Mail           53.85        108.15  \n",
       "3               No  Banktransfer           42.30       1840.75  \n",
       "4              Yes    Electronic           70.70        151.65  "
      ]
     },
     "execution_count": 23,
     "metadata": {},
     "output_type": "execute_result"
    }
   ],
   "source": [
    "X.head()"
   ]
  },
  {
   "cell_type": "markdown",
   "metadata": {},
   "source": [
    "### Transform Data"
   ]
  },
  {
   "cell_type": "markdown",
   "metadata": {},
   "source": [
    "#### Transform Y\n",
    "\n",
    "Y has categorical data. Yes for customer churned and No for did not churn."
   ]
  },
  {
   "cell_type": "code",
   "execution_count": 24,
   "metadata": {},
   "outputs": [],
   "source": [
    "# convert Target data into numeric data using Label Encoder\n",
    "\n",
    "from sklearn.preprocessing import LabelEncoder"
   ]
  },
  {
   "cell_type": "code",
   "execution_count": 25,
   "metadata": {},
   "outputs": [],
   "source": [
    "le = LabelEncoder()"
   ]
  },
  {
   "cell_type": "code",
   "execution_count": 26,
   "metadata": {},
   "outputs": [
    {
     "data": {
      "text/plain": [
       "LabelEncoder()"
      ]
     },
     "execution_count": 26,
     "metadata": {},
     "output_type": "execute_result"
    }
   ],
   "source": [
    "# Fit the labelencoder\n",
    "\n",
    "le.fit(y)"
   ]
  },
  {
   "cell_type": "code",
   "execution_count": 27,
   "metadata": {},
   "outputs": [],
   "source": [
    "y=le.transform(y)"
   ]
  },
  {
   "cell_type": "code",
   "execution_count": 28,
   "metadata": {},
   "outputs": [
    {
     "data": {
      "text/plain": [
       "array([0, 0, 1, ..., 0, 1, 0])"
      ]
     },
     "execution_count": 28,
     "metadata": {},
     "output_type": "execute_result"
    }
   ],
   "source": [
    "y"
   ]
  },
  {
   "cell_type": "markdown",
   "metadata": {},
   "source": [
    "### OneHot Encoder"
   ]
  },
  {
   "cell_type": "markdown",
   "metadata": {},
   "source": [
    "X data is converted from categorical data to numerica data using OneHot Encoder. The OneHot Encoder ensures that the different categories do not get ordered or ranked.\n",
    "\n",
    "All the columns except `SeniorCitizen`, `tenure`, `MonthlyCharges` and `TotalCharges` are objects."
   ]
  },
  {
   "cell_type": "code",
   "execution_count": 29,
   "metadata": {},
   "outputs": [],
   "source": [
    "# import OneHot Encoder\n",
    "\n",
    "from sklearn.compose import make_column_transformer\n",
    "\n",
    "from sklearn.preprocessing import OneHotEncoder"
   ]
  },
  {
   "cell_type": "code",
   "execution_count": 30,
   "metadata": {},
   "outputs": [],
   "source": [
    "# instantiate\n",
    "\n",
    "categorical_columns=['gender','Partner','Dependents','PhoneService','MultipleLines','InternetService','OnlineSecurity','OnlineBackup','DeviceProtection','TechSupport','StreamingTV','StreamingMovies','Contract','PaperlessBilling','PaymentMethod']\n",
    "numeric_columns=['SeniorCitizen','tenure','MonthlyCharges','TotalCharges']\n",
    "\n",
    "columntransformer=make_column_transformer((OneHotEncoder(drop='if_binary'),categorical_columns),remainder=\"passthrough\")"
   ]
  },
  {
   "cell_type": "code",
   "execution_count": 31,
   "metadata": {},
   "outputs": [
    {
     "data": {
      "text/plain": [
       "ColumnTransformer(remainder='passthrough',\n",
       "                  transformers=[('onehotencoder',\n",
       "                                 OneHotEncoder(drop='if_binary'),\n",
       "                                 ['gender', 'Partner', 'Dependents',\n",
       "                                  'PhoneService', 'MultipleLines',\n",
       "                                  'InternetService', 'OnlineSecurity',\n",
       "                                  'OnlineBackup', 'DeviceProtection',\n",
       "                                  'TechSupport', 'StreamingTV',\n",
       "                                  'StreamingMovies', 'Contract',\n",
       "                                  'PaperlessBilling', 'PaymentMethod'])])"
      ]
     },
     "execution_count": 31,
     "metadata": {},
     "output_type": "execute_result"
    }
   ],
   "source": [
    "columntransformer.fit(X)"
   ]
  },
  {
   "cell_type": "code",
   "execution_count": 32,
   "metadata": {},
   "outputs": [],
   "source": [
    "X = columntransformer.transform(X)"
   ]
  },
  {
   "cell_type": "markdown",
   "metadata": {},
   "source": [
    "Looking at X it is now transformed to a numpy array."
   ]
  },
  {
   "cell_type": "code",
   "execution_count": 33,
   "metadata": {},
   "outputs": [
    {
     "data": {
      "text/plain": [
       "array([[0.0000e+00, 1.0000e+00, 0.0000e+00, ..., 1.0000e+00, 2.9850e+01,\n",
       "        2.9850e+01],\n",
       "       [1.0000e+00, 0.0000e+00, 0.0000e+00, ..., 3.4000e+01, 5.6950e+01,\n",
       "        1.8895e+03],\n",
       "       [1.0000e+00, 0.0000e+00, 0.0000e+00, ..., 2.0000e+00, 5.3850e+01,\n",
       "        1.0815e+02],\n",
       "       ...,\n",
       "       [0.0000e+00, 1.0000e+00, 1.0000e+00, ..., 1.1000e+01, 2.9600e+01,\n",
       "        3.4645e+02],\n",
       "       [1.0000e+00, 1.0000e+00, 0.0000e+00, ..., 4.0000e+00, 7.4400e+01,\n",
       "        3.0660e+02],\n",
       "       [1.0000e+00, 0.0000e+00, 0.0000e+00, ..., 6.6000e+01, 1.0565e+02,\n",
       "        6.8445e+03]])"
      ]
     },
     "execution_count": 33,
     "metadata": {},
     "output_type": "execute_result"
    }
   ],
   "source": [
    "# Looking at X\n",
    "X"
   ]
  },
  {
   "cell_type": "markdown",
   "metadata": {},
   "source": [
    "### Splitting Data"
   ]
  },
  {
   "cell_type": "code",
   "execution_count": 34,
   "metadata": {},
   "outputs": [],
   "source": [
    "# Create Train-test-split\n",
    "\n",
    "from sklearn.model_selection import train_test_split\n",
    "\n",
    "X_train, X_test, y_train, y_test = train_test_split(X, y, test_size=0.2, random_state = 1, stratify=y)"
   ]
  },
  {
   "cell_type": "code",
   "execution_count": 35,
   "metadata": {},
   "outputs": [
    {
     "data": {
      "text/plain": [
       "(5634, 40)"
      ]
     },
     "execution_count": 35,
     "metadata": {},
     "output_type": "execute_result"
    }
   ],
   "source": [
    "X_train.shape"
   ]
  },
  {
   "cell_type": "code",
   "execution_count": 36,
   "metadata": {},
   "outputs": [
    {
     "data": {
      "text/plain": [
       "(1409, 40)"
      ]
     },
     "execution_count": 36,
     "metadata": {},
     "output_type": "execute_result"
    }
   ],
   "source": [
    "X_test.shape"
   ]
  },
  {
   "cell_type": "code",
   "execution_count": 37,
   "metadata": {},
   "outputs": [
    {
     "data": {
      "text/plain": [
       "(array([0, 1]), array([4139, 1495]))"
      ]
     },
     "execution_count": 37,
     "metadata": {},
     "output_type": "execute_result"
    }
   ],
   "source": [
    "np.unique(y_train, return_counts=True)"
   ]
  },
  {
   "cell_type": "code",
   "execution_count": 38,
   "metadata": {},
   "outputs": [
    {
     "data": {
      "text/plain": [
       "0.7346467873624423"
      ]
     },
     "execution_count": 38,
     "metadata": {},
     "output_type": "execute_result"
    }
   ],
   "source": [
    "4139/(4139+1495)"
   ]
  },
  {
   "cell_type": "code",
   "execution_count": 39,
   "metadata": {},
   "outputs": [
    {
     "data": {
      "text/plain": [
       "(array([0, 1]), array([1035,  374]))"
      ]
     },
     "execution_count": 39,
     "metadata": {},
     "output_type": "execute_result"
    }
   ],
   "source": [
    "np.unique(y_test, return_counts=True)"
   ]
  },
  {
   "cell_type": "markdown",
   "metadata": {},
   "source": [
    "### Scaling the data"
   ]
  },
  {
   "cell_type": "code",
   "execution_count": 39,
   "metadata": {},
   "outputs": [],
   "source": [
    "# Use the Standard Scaler from sklearn\n",
    "\n",
    "from sklearn.preprocessing import StandardScaler"
   ]
  },
  {
   "cell_type": "code",
   "execution_count": 40,
   "metadata": {},
   "outputs": [
    {
     "data": {
      "text/plain": [
       "StandardScaler(with_mean=False)"
      ]
     },
     "execution_count": 40,
     "metadata": {},
     "output_type": "execute_result"
    }
   ],
   "source": [
    "sd = StandardScaler(with_mean=False)\n",
    "\n",
    "sd.fit(X_train) # fit the training data"
   ]
  },
  {
   "cell_type": "code",
   "execution_count": 41,
   "metadata": {},
   "outputs": [
    {
     "data": {
      "text/plain": [
       "array([[2.00002835, 0.        , 0.        , ..., 0.16276528, 0.68925801,\n",
       "        0.03698239],\n",
       "       [2.00002835, 0.        , 0.        , ..., 0.08138264, 1.63990131,\n",
       "        0.040228  ],\n",
       "       [0.        , 0.        , 0.        , ..., 2.36009658, 3.17325067,\n",
       "        2.56898415],\n",
       "       ...,\n",
       "       [0.        , 0.        , 0.        , ..., 0.04069132, 1.85799987,\n",
       "        0.0246402 ],\n",
       "       [0.        , 2.00121136, 2.18671771, ..., 2.92977507, 1.79140489,\n",
       "        1.74532571],\n",
       "       [0.        , 2.00121136, 2.18671771, ..., 0.        , 2.69210196,\n",
       "        0.02320507]])"
      ]
     },
     "execution_count": 41,
     "metadata": {},
     "output_type": "execute_result"
    }
   ],
   "source": [
    "sd.transform(X_train)\n",
    "\n",
    "sd.transform(X_test)"
   ]
  },
  {
   "cell_type": "markdown",
   "metadata": {},
   "source": [
    "# Modeling\n",
    "\n",
    "This is a Classification problem. The data set was modeled using different models, these include Logistic Regression, Decision Tree, Random Forest, K-nearest neighbor and Support Vector Machines. The models were chosen because they are suitable for modeling a classification problem. \n",
    "\n",
    "The baseline was calculated using using the target data to get the Dummy variable accuracy rate. The Dummy variable accuracy rate is 0.73.\n",
    "\n",
    "The metric used was the accuracy_score. Another metric used was confusion matrix. These metrics were used because they are  recommended for a classification."
   ]
  },
  {
   "cell_type": "markdown",
   "metadata": {},
   "source": [
    "#### Logistic Regression"
   ]
  },
  {
   "cell_type": "code",
   "execution_count": 42,
   "metadata": {},
   "outputs": [],
   "source": [
    "# from sklearn import Logistic Regression\n",
    "\n",
    "from sklearn.linear_model import LogisticRegression\n",
    "from sklearn.metrics import accuracy_score"
   ]
  },
  {
   "cell_type": "code",
   "execution_count": 43,
   "metadata": {},
   "outputs": [],
   "source": [
    "# instantiate\n",
    "\n",
    "logreg = LogisticRegression(random_state=42)"
   ]
  },
  {
   "cell_type": "code",
   "execution_count": 44,
   "metadata": {},
   "outputs": [
    {
     "data": {
      "text/plain": [
       "LogisticRegression(random_state=42)"
      ]
     },
     "execution_count": 44,
     "metadata": {},
     "output_type": "execute_result"
    }
   ],
   "source": [
    "# fit the model\n",
    "logreg.fit(X_train, y_train)"
   ]
  },
  {
   "cell_type": "code",
   "execution_count": 93,
   "metadata": {},
   "outputs": [
    {
     "data": {
      "text/plain": [
       "array([-0.16035805])"
      ]
     },
     "execution_count": 93,
     "metadata": {},
     "output_type": "execute_result"
    }
   ],
   "source": [
    "# Check the intercept\n",
    "\n",
    "logreg.intercept_"
   ]
  },
  {
   "cell_type": "code",
   "execution_count": 48,
   "metadata": {},
   "outputs": [
    {
     "data": {
      "text/plain": [
       "0.8040468583599574"
      ]
     },
     "execution_count": 48,
     "metadata": {},
     "output_type": "execute_result"
    }
   ],
   "source": [
    "# Score # Accuracy\n",
    "\n",
    "logreg.score(X_train, y_train)"
   ]
  },
  {
   "cell_type": "code",
   "execution_count": 49,
   "metadata": {},
   "outputs": [
    {
     "name": "stdout",
     "output_type": "stream",
     "text": [
      "Predictions: [0 0 0 0 0 1 0 1 1 0]\n",
      "Actual [0 1 0 0 0 1 0 1 0 0]\n"
     ]
    }
   ],
   "source": [
    "# Predict some data\n",
    "\n",
    "print(\"Predictions:\",logreg.predict(X_test[0:10]))\n",
    "\n",
    "print(\"Actual\", y_test[0:10])"
   ]
  },
  {
   "cell_type": "markdown",
   "metadata": {},
   "source": [
    "The prediction is relatively good though the model missed out on the second last value. "
   ]
  },
  {
   "cell_type": "code",
   "execution_count": 50,
   "metadata": {},
   "outputs": [],
   "source": [
    "predlr = logreg.predict(X_test)"
   ]
  },
  {
   "cell_type": "code",
   "execution_count": 53,
   "metadata": {
    "scrolled": true
   },
   "outputs": [
    {
     "data": {
      "text/plain": [
       "0.8119233498935415"
      ]
     },
     "execution_count": 53,
     "metadata": {},
     "output_type": "execute_result"
    }
   ],
   "source": [
    "# Score ## Accuracy\n",
    "lr_score = accuracy_score( y_test, predlr)\n",
    "\n",
    "lr_score"
   ]
  },
  {
   "cell_type": "code",
   "execution_count": 66,
   "metadata": {},
   "outputs": [
    {
     "data": {
      "text/plain": [
       "array([[939,  96],\n",
       "       [169, 205]], dtype=int64)"
      ]
     },
     "execution_count": 66,
     "metadata": {},
     "output_type": "execute_result"
    }
   ],
   "source": [
    "lr_cm= confusion_matrix(y_test,predlr)\n",
    "lr_cm"
   ]
  },
  {
   "cell_type": "code",
   "execution_count": 57,
   "metadata": {},
   "outputs": [
    {
     "data": {
      "text/plain": [
       "1144"
      ]
     },
     "execution_count": 57,
     "metadata": {},
     "output_type": "execute_result"
    }
   ],
   "source": [
    "# True positives and true negatives\n",
    "939+205"
   ]
  },
  {
   "cell_type": "code",
   "execution_count": 73,
   "metadata": {},
   "outputs": [
    {
     "data": {
      "text/plain": [
       "Text(30.5, 0.5, 'Actual')"
      ]
     },
     "execution_count": 73,
     "metadata": {},
     "output_type": "execute_result"
    },
    {
     "data": {
      "image/png": "[encoded data removed]",
      "text/plain": [
       "<Figure size 432x288 with 2 Axes>"
      ]
     },
     "metadata": {},
     "output_type": "display_data"
    }
   ],
   "source": [
    "# Plot the Confusion Matrix\n",
    "seaborn.heatmap(lr_cm, annot=True,fmt =\".2f\", cmap=plt.cm.copper)\n",
    "plt.title(\"Logistic Regression \\n Accuracy Score {0}\".format(lr_score), fontsize=14)\n",
    "plt.xlabel(('Predicted'), fontsize=14)\n",
    "plt.ylabel(('Actual'), fontsize=14)"
   ]
  },
  {
   "cell_type": "markdown",
   "metadata": {},
   "source": [
    "The Logistic Regression model has an accuracy score of 0.81. Of the 1409 predictions the model predicted 1144 correctly."
   ]
  },
  {
   "cell_type": "markdown",
   "metadata": {},
   "source": [
    "#### Decision Tree"
   ]
  },
  {
   "cell_type": "code",
   "execution_count": 107,
   "metadata": {},
   "outputs": [],
   "source": [
    "# from sklearn import Decision Tree Classifier\n",
    "\n",
    "from sklearn.tree import DecisionTreeClassifier"
   ]
  },
  {
   "cell_type": "code",
   "execution_count": 108,
   "metadata": {},
   "outputs": [
    {
     "data": {
      "text/plain": [
       "DecisionTreeClassifier()"
      ]
     },
     "execution_count": 108,
     "metadata": {},
     "output_type": "execute_result"
    }
   ],
   "source": [
    "# instantiate\n",
    "\n",
    "dtree = DecisionTreeClassifier()\n",
    "\n",
    "dtree.fit(X_train, y_train)"
   ]
  },
  {
   "cell_type": "code",
   "execution_count": 109,
   "metadata": {},
   "outputs": [
    {
     "data": {
      "text/plain": [
       "0.9978700745473909"
      ]
     },
     "execution_count": 109,
     "metadata": {},
     "output_type": "execute_result"
    }
   ],
   "source": [
    "#Score accuracy\n",
    "\n",
    "dtree.score(X_train, y_train)"
   ]
  },
  {
   "cell_type": "code",
   "execution_count": 77,
   "metadata": {},
   "outputs": [
    {
     "name": "stdout",
     "output_type": "stream",
     "text": [
      "Predictions: [0 1 0 0 0 0 0 1 1 0]\n",
      "Actual [0 1 0 0 0 1 0 1 0 0]\n"
     ]
    }
   ],
   "source": [
    "# Predict some data\n",
    "\n",
    "print(\"Predictions:\", dtree.predict(X_test[0:10]))\n",
    "\n",
    "print(\"Actual\", y_test[0:10])"
   ]
  },
  {
   "cell_type": "markdown",
   "metadata": {},
   "source": [
    "The model missed out on two values, however we will use this as baseline."
   ]
  },
  {
   "cell_type": "code",
   "execution_count": 78,
   "metadata": {},
   "outputs": [],
   "source": [
    "dtree_pred = dtree.predict(X_test)"
   ]
  },
  {
   "cell_type": "code",
   "execution_count": 109,
   "metadata": {
    "scrolled": true
   },
   "outputs": [
    {
     "data": {
      "text/plain": [
       "0.7409510290986515"
      ]
     },
     "execution_count": 109,
     "metadata": {},
     "output_type": "execute_result"
    }
   ],
   "source": [
    "# Score ## Accuracy\n",
    "dtree_score = accuracy_score( y_test, dtree_pred)\n",
    "\n",
    "dtree_score"
   ]
  },
  {
   "cell_type": "code",
   "execution_count": 110,
   "metadata": {},
   "outputs": [
    {
     "data": {
      "text/plain": [
       "array([[856, 179],\n",
       "       [186, 188]], dtype=int64)"
      ]
     },
     "execution_count": 110,
     "metadata": {},
     "output_type": "execute_result"
    }
   ],
   "source": [
    "cm_dtree= confusion_matrix(y_test,dtree_pred)\n",
    "\n",
    "cm_dtree"
   ]
  },
  {
   "cell_type": "code",
   "execution_count": 170,
   "metadata": {},
   "outputs": [
    {
     "data": {
      "text/plain": [
       "1044"
      ]
     },
     "execution_count": 170,
     "metadata": {},
     "output_type": "execute_result"
    }
   ],
   "source": [
    "# True positives and true negatives\n",
    "856+188"
   ]
  },
  {
   "cell_type": "code",
   "execution_count": 111,
   "metadata": {},
   "outputs": [
    {
     "data": {
      "text/plain": [
       "Text(30.5, 0.5, 'Actual')"
      ]
     },
     "execution_count": 111,
     "metadata": {},
     "output_type": "execute_result"
    },
    {
     "data": {
      "image/png": "[encoded data removed]",
      "text/plain": [
       "<Figure size 432x288 with 2 Axes>"
      ]
     },
     "metadata": {},
     "output_type": "display_data"
    }
   ],
   "source": [
    "# Plot confusion Matrix\n",
    "seaborn.heatmap(cm_dtree, annot=True,fmt =\".2f\", cmap=plt.cm.copper)\n",
    "plt.title(\"Decision Tree \\n Accuracy Score {0}\".format(dtree_score), fontsize=14)\n",
    "plt.xlabel(('Predicted'), fontsize=14)\n",
    "plt.ylabel(('Actual'), fontsize=14)"
   ]
  },
  {
   "cell_type": "markdown",
   "metadata": {},
   "source": [
    "The Decision Tree model has an accuracy score of 0.74. Of the 1409 predictions the model predicted 1044 correctly."
   ]
  },
  {
   "cell_type": "markdown",
   "metadata": {},
   "source": [
    "#### Random Trees"
   ]
  },
  {
   "cell_type": "code",
   "execution_count": 81,
   "metadata": {},
   "outputs": [],
   "source": [
    "# import Random Forest Classifier from Sklearn\n",
    "\n",
    "from sklearn.ensemble import RandomForestClassifier"
   ]
  },
  {
   "cell_type": "code",
   "execution_count": 82,
   "metadata": {},
   "outputs": [
    {
     "data": {
      "text/plain": [
       "RandomForestClassifier(max_depth=10, n_jobs=2, random_state=42)"
      ]
     },
     "execution_count": 82,
     "metadata": {},
     "output_type": "execute_result"
    }
   ],
   "source": [
    "# instantiate\n",
    "\n",
    "rforest = RandomForestClassifier(n_jobs=2, max_features='auto', max_depth=10, random_state=42)\n",
    "\n",
    "rforest.fit(X_train, y_train)"
   ]
  },
  {
   "cell_type": "code",
   "execution_count": 95,
   "metadata": {},
   "outputs": [
    {
     "data": {
      "text/plain": [
       "0.8780617678381256"
      ]
     },
     "execution_count": 95,
     "metadata": {},
     "output_type": "execute_result"
    }
   ],
   "source": [
    "# Accuracy score on train data\n",
    "\n",
    "rforest.score(X_train, y_train)"
   ]
  },
  {
   "cell_type": "code",
   "execution_count": 96,
   "metadata": {},
   "outputs": [
    {
     "name": "stdout",
     "output_type": "stream",
     "text": [
      "Predictions: [0 1 0 0 0 1 0 0 1 0]\n",
      "Actual [0 1 0 0 0 1 0 1 0 0]\n"
     ]
    }
   ],
   "source": [
    "# Predict some data\n",
    "\n",
    "print(\"Predictions:\",rforest.predict(X_test[0:10]))\n",
    "\n",
    "print(\"Actual\", y_test[0:10])"
   ]
  },
  {
   "cell_type": "markdown",
   "metadata": {},
   "source": [
    "The model missed out on two values, however we will use this as baseline."
   ]
  },
  {
   "cell_type": "code",
   "execution_count": 100,
   "metadata": {},
   "outputs": [],
   "source": [
    "rforest_pred = rforest.predict(X_test)"
   ]
  },
  {
   "cell_type": "code",
   "execution_count": 103,
   "metadata": {
    "scrolled": true
   },
   "outputs": [
    {
     "data": {
      "text/plain": [
       "0.8090844570617459"
      ]
     },
     "execution_count": 103,
     "metadata": {},
     "output_type": "execute_result"
    }
   ],
   "source": [
    "# Score ## Accuracy\n",
    "rforest_score = accuracy_score( y_test, rforest_pred)\n",
    "\n",
    "rforest_score"
   ]
  },
  {
   "cell_type": "code",
   "execution_count": 106,
   "metadata": {},
   "outputs": [
    {
     "data": {
      "text/plain": [
       "array([[944,  91],\n",
       "       [178, 196]], dtype=int64)"
      ]
     },
     "execution_count": 106,
     "metadata": {},
     "output_type": "execute_result"
    }
   ],
   "source": [
    "cm_rforest=confusion_matrix(y_test,rforest_pred)\n",
    "\n",
    "cm_rforest"
   ]
  },
  {
   "cell_type": "code",
   "execution_count": 171,
   "metadata": {},
   "outputs": [
    {
     "data": {
      "text/plain": [
       "1140"
      ]
     },
     "execution_count": 171,
     "metadata": {},
     "output_type": "execute_result"
    }
   ],
   "source": [
    "# True positives and true negatives\n",
    "944+196"
   ]
  },
  {
   "cell_type": "code",
   "execution_count": 113,
   "metadata": {},
   "outputs": [
    {
     "data": {
      "text/plain": [
       "Text(30.5, 0.5, 'Actual')"
      ]
     },
     "execution_count": 113,
     "metadata": {},
     "output_type": "execute_result"
    },
    {
     "data": {
      "image/png": "[encoded data removed]",
      "text/plain": [
       "<Figure size 432x288 with 2 Axes>"
      ]
     },
     "metadata": {},
     "output_type": "display_data"
    }
   ],
   "source": [
    "# Plot confusion Matrix\n",
    "seaborn.heatmap(cm_rforest, annot=True,fmt =\".2f\", cmap=plt.cm.copper)\n",
    "plt.title(\"Random Forest \\n Accuracy Score {0}\".format(rforest_score), fontsize=14)\n",
    "plt.xlabel(('Predicted'), fontsize=14)\n",
    "plt.ylabel(('Actual'), fontsize=14)"
   ]
  },
  {
   "cell_type": "markdown",
   "metadata": {},
   "source": [
    "The Random Forest model has an accuracy score of about 0.81. Of the 1409 predictions the model predicted 1140 correctly."
   ]
  },
  {
   "cell_type": "markdown",
   "metadata": {},
   "source": [
    "### K-Nearest Neighbors"
   ]
  },
  {
   "cell_type": "code",
   "execution_count": 103,
   "metadata": {},
   "outputs": [],
   "source": [
    "# get k-nearest neighbors from sklearn\n",
    "\n",
    "from sklearn.neighbors import KNeighborsClassifier"
   ]
  },
  {
   "cell_type": "code",
   "execution_count": 104,
   "metadata": {},
   "outputs": [
    {
     "data": {
      "text/plain": [
       "KNeighborsClassifier()"
      ]
     },
     "execution_count": 104,
     "metadata": {},
     "output_type": "execute_result"
    }
   ],
   "source": [
    "# instantiate\n",
    "\n",
    "knn =  KNeighborsClassifier()\n",
    "\n",
    "knn.fit(X_train, y_train)"
   ]
  },
  {
   "cell_type": "code",
   "execution_count": 105,
   "metadata": {},
   "outputs": [
    {
     "data": {
      "text/plain": [
       "0.8285410010649628"
      ]
     },
     "execution_count": 105,
     "metadata": {},
     "output_type": "execute_result"
    }
   ],
   "source": [
    "# Check for accuracy\n",
    "\n",
    "knn.score(X_train, y_train)"
   ]
  },
  {
   "cell_type": "code",
   "execution_count": 126,
   "metadata": {},
   "outputs": [
    {
     "name": "stdout",
     "output_type": "stream",
     "text": [
      "Predictions: [0 1 0 0 0 1 0 1 1 0]\n",
      "Actual [0 1 0 0 0 1 0 1 0 0]\n"
     ]
    }
   ],
   "source": [
    "# Predict some data\n",
    "\n",
    "print(\"Predictions:\",knn.predict(X_test[0:10]))\n",
    "\n",
    "print(\"Actual\", y_test[0:10])"
   ]
  },
  {
   "cell_type": "markdown",
   "metadata": {},
   "source": [
    "The model seems to perform relatively well though it missed out on one value. "
   ]
  },
  {
   "cell_type": "code",
   "execution_count": 127,
   "metadata": {},
   "outputs": [],
   "source": [
    "knn_pred = knn.predict(X_test)"
   ]
  },
  {
   "cell_type": "code",
   "execution_count": 130,
   "metadata": {},
   "outputs": [
    {
     "data": {
      "text/plain": [
       "0.7686302342086586"
      ]
     },
     "execution_count": 130,
     "metadata": {},
     "output_type": "execute_result"
    }
   ],
   "source": [
    "# Score ## Accuracy\n",
    "knn_score = accuracy_score( y_test, knn_pred)\n",
    "\n",
    "knn_score"
   ]
  },
  {
   "cell_type": "code",
   "execution_count": 132,
   "metadata": {},
   "outputs": [
    {
     "data": {
      "text/plain": [
       "array([[912, 123],\n",
       "       [203, 171]], dtype=int64)"
      ]
     },
     "execution_count": 132,
     "metadata": {},
     "output_type": "execute_result"
    }
   ],
   "source": [
    "cm_knn= confusion_matrix(y_test,knn_pred)\n",
    "         \n",
    "cm_knn"
   ]
  },
  {
   "cell_type": "code",
   "execution_count": 172,
   "metadata": {},
   "outputs": [
    {
     "data": {
      "text/plain": [
       "1083"
      ]
     },
     "execution_count": 172,
     "metadata": {},
     "output_type": "execute_result"
    }
   ],
   "source": [
    "# True positives and true negatives\n",
    "912+171"
   ]
  },
  {
   "cell_type": "code",
   "execution_count": 165,
   "metadata": {},
   "outputs": [
    {
     "data": {
      "text/plain": [
       "Text(30.5, 0.5, 'Actual')"
      ]
     },
     "execution_count": 165,
     "metadata": {},
     "output_type": "execute_result"
    },
    {
     "data": {
      "image/png": "[encoded data removed]",
      "text/plain": [
       "<Figure size 432x288 with 2 Axes>"
      ]
     },
     "metadata": {},
     "output_type": "display_data"
    }
   ],
   "source": [
    "# Plot confusion Matrix\n",
    "seaborn.heatmap(cm_knn, annot=True,fmt =\".2f\", cmap=plt.cm.copper)\n",
    "plt.title(\"K-Nearest Neighbors \\n Accuracy Score {0}\".format(knn_score), fontsize=14)\n",
    "plt.xlabel(('Predicted'), fontsize=14)\n",
    "plt.ylabel(('Actual'), fontsize=14)"
   ]
  },
  {
   "cell_type": "markdown",
   "metadata": {},
   "source": [
    "The K-nearest neighbors model has an accuracy score of 0.76. Of the 1409 predictions the model predicted 1083 correctly."
   ]
  },
  {
   "cell_type": "markdown",
   "metadata": {},
   "source": [
    "### Support Vector Machine"
   ]
  },
  {
   "cell_type": "code",
   "execution_count": 54,
   "metadata": {},
   "outputs": [],
   "source": [
    "# from sklearn.svm import svc\n",
    "from sklearn.svm import SVC"
   ]
  },
  {
   "cell_type": "code",
   "execution_count": 55,
   "metadata": {},
   "outputs": [],
   "source": [
    "svc = SVC(kernel='linear')"
   ]
  },
  {
   "cell_type": "code",
   "execution_count": 56,
   "metadata": {},
   "outputs": [
    {
     "data": {
      "text/plain": [
       "SVC(kernel='linear')"
      ]
     },
     "execution_count": 56,
     "metadata": {},
     "output_type": "execute_result"
    }
   ],
   "source": [
    "svc.fit(X_train,y_train)"
   ]
  },
  {
   "cell_type": "code",
   "execution_count": 58,
   "metadata": {},
   "outputs": [
    {
     "data": {
      "text/plain": [
       "0.7957046503372383"
      ]
     },
     "execution_count": 58,
     "metadata": {},
     "output_type": "execute_result"
    }
   ],
   "source": [
    "# Score ## Accuracy\n",
    "\n",
    "svc.score(X_train,y_train)"
   ]
  },
  {
   "cell_type": "code",
   "execution_count": 151,
   "metadata": {},
   "outputs": [
    {
     "name": "stdout",
     "output_type": "stream",
     "text": [
      "Predictions: [0 0 0 0 0 1 0 0 1 0]\n",
      "Actual [0 1 0 0 0 1 0 1 0 0]\n"
     ]
    }
   ],
   "source": [
    "# Predict some data\n",
    "\n",
    "print(\"Predictions:\",svc.predict(X_test[0:10]))\n",
    "\n",
    "print(\"Actual\", y_test[0:10])"
   ]
  },
  {
   "cell_type": "markdown",
   "metadata": {},
   "source": [
    "The model missed out on three values. It is bit working great right now. \n",
    "However, we will use it as a baseline."
   ]
  },
  {
   "cell_type": "code",
   "execution_count": 59,
   "metadata": {},
   "outputs": [],
   "source": [
    "svc_pred = svc.predict(X_test)"
   ]
  },
  {
   "cell_type": "code",
   "execution_count": 62,
   "metadata": {},
   "outputs": [
    {
     "data": {
      "text/plain": [
       "0.7863733144073811"
      ]
     },
     "execution_count": 62,
     "metadata": {},
     "output_type": "execute_result"
    }
   ],
   "source": [
    "# Score ## Accuracy\n",
    "svc_score = accuracy_score( y_test, svc_pred)\n",
    "\n",
    "svc_score"
   ]
  },
  {
   "cell_type": "code",
   "execution_count": 162,
   "metadata": {},
   "outputs": [
    {
     "data": {
      "text/plain": [
       "array([[953,  82],\n",
       "       [219, 155]], dtype=int64)"
      ]
     },
     "execution_count": 162,
     "metadata": {},
     "output_type": "execute_result"
    }
   ],
   "source": [
    "cm_svc = confusion_matrix(y_test,svc_pred)\n",
    "\n",
    "cm_svc"
   ]
  },
  {
   "cell_type": "code",
   "execution_count": 65,
   "metadata": {},
   "outputs": [
    {
     "data": {
      "text/plain": [
       "1108"
      ]
     },
     "execution_count": 65,
     "metadata": {},
     "output_type": "execute_result"
    }
   ],
   "source": [
    "953+155"
   ]
  },
  {
   "cell_type": "markdown",
   "metadata": {},
   "source": [
    "The Support Vector Machine model has an accuracy score of 0.79. \n",
    "Of the 1409 predictions the model predicted 1108 correctly."
   ]
  },
  {
   "cell_type": "code",
   "execution_count": 164,
   "metadata": {},
   "outputs": [
    {
     "data": {
      "text/plain": [
       "Text(30.5, 0.5, 'Actual')"
      ]
     },
     "execution_count": 164,
     "metadata": {},
     "output_type": "execute_result"
    },
    {
     "data": {
      "image/png": "[encoded data removed]",
      "text/plain": [
       "<Figure size 432x288 with 2 Axes>"
      ]
     },
     "metadata": {},
     "output_type": "display_data"
    }
   ],
   "source": [
    "# Plot confusion Matrix\n",
    "seaborn.heatmap(cm_svc, annot=True,fmt =\".2f\", cmap=plt.cm.copper)\n",
    "plt.title(\"Support Vector Machine \\n Accuracy Score {0}\".format(svc_score), fontsize=14)\n",
    "plt.xlabel(('Predicted'), fontsize=14)\n",
    "plt.ylabel(('Actual'), fontsize=14)"
   ]
  },
  {
   "cell_type": "markdown",
   "metadata": {},
   "source": [
    "#### _notes_\n",
    "\n",
    "Before comparing the models using Cross Validation. The Logistic Regression model with regularization performed the best on the test data with an accuracy score of 0.81. It also had the highest correct predictions. Of the 1409 values in the test data, it correctly predicted 1144. The Random Forest Model followed very closely with an accuracy score of 0.81 and number of correct predicts is 1140 out of the total 1409 values in the test data.\n"
   ]
  },
  {
   "cell_type": "markdown",
   "metadata": {},
   "source": [
    "## Fine Tuning the Parameters"
   ]
  },
  {
   "cell_type": "markdown",
   "metadata": {},
   "source": [
    "### Cross Validation\n",
    "\n",
    "The 5-fold Cross Validation was used to compare the models. The Logistic Regression model performed the best with an accuracy_score of 0.803 and a standard deviation of +/- 0.010. See the table below under _model evaluation_."
   ]
  },
  {
   "cell_type": "markdown",
   "metadata": {},
   "source": [
    "#### Cross Validation for Logistic Regression"
   ]
  },
  {
   "cell_type": "code",
   "execution_count": 176,
   "metadata": {},
   "outputs": [
    {
     "name": "stdout",
     "output_type": "stream",
     "text": [
      "Scores: [0.79946761 0.79236912 0.8216504  0.7985803  0.80728242]\n",
      "Mean: 0.803869970260094\n",
      "StandardDeviation: 0.010073919818915181\n"
     ]
    }
   ],
   "source": [
    "# Use the cross_validation from sklearn\n",
    "# fivefold crossvalidation\n",
    "\n",
    "from sklearn.model_selection import cross_validate\n",
    "from sklearn.metrics import accuracy_score\n",
    "from sklearn.metrics import make_scorer\n",
    "\n",
    "scoring={'accuracy':make_scorer(accuracy_score)}\n",
    "\n",
    "logreg=LogisticRegression(max_iter=1000)\n",
    "\n",
    "logreg_scores=cross_validate(logreg, X_train, y_train, cv=5, scoring=scoring)\n",
    "\n",
    "logreg_scores\n",
    "def display_scores(logreg_scores):\n",
    "    print(\"Scores:\",logreg_scores['test_accuracy'])\n",
    "    print(\"Mean:\",logreg_scores['test_accuracy'].mean())\n",
    "    print(\"StandardDeviation:\",logreg_scores['test_accuracy'].std())\n",
    "display_scores(logreg_scores)"
   ]
  },
  {
   "cell_type": "markdown",
   "metadata": {},
   "source": [
    "#### Cross Validation for Decision Tree"
   ]
  },
  {
   "cell_type": "code",
   "execution_count": 178,
   "metadata": {},
   "outputs": [
    {
     "name": "stdout",
     "output_type": "stream",
     "text": [
      "Scores: [0.72049689 0.71428571 0.75244011 0.72759539 0.72468917]\n",
      "Mean: 0.7279014532680013\n",
      "StandardDeviation: 0.013059661658321571\n"
     ]
    }
   ],
   "source": [
    "# Cross Validate using accuracy_score\n",
    "\n",
    "treescores=cross_validate(dtree, X_train, y_train, cv=5, scoring=scoring)\n",
    "\n",
    "display_scores(treescores)"
   ]
  },
  {
   "cell_type": "markdown",
   "metadata": {},
   "source": [
    "#### Cross Validation for Random Forest"
   ]
  },
  {
   "cell_type": "code",
   "execution_count": 187,
   "metadata": {},
   "outputs": [
    {
     "name": "stdout",
     "output_type": "stream",
     "text": [
      "Scores: [0.79414374 0.79148181 0.81721384 0.79236912 0.79396092]\n",
      "Mean: 0.7978338883626661\n",
      "StandardDeviation: 0.009740761750911148\n"
     ]
    }
   ],
   "source": [
    "# Cross validate\n",
    "\n",
    "rforestscores=cross_validate(rforest, X_train, y_train, cv=5, scoring=scoring)\n",
    "\n",
    "display_scores(rforestscores)"
   ]
  },
  {
   "cell_type": "markdown",
   "metadata": {},
   "source": [
    "#### Cross Validation for K-Nearest Neightbors"
   ]
  },
  {
   "cell_type": "code",
   "execution_count": 188,
   "metadata": {},
   "outputs": [
    {
     "name": "stdout",
     "output_type": "stream",
     "text": [
      "Scores: [0.76220053 0.75066548 0.77196096 0.73380657 0.75932504]\n",
      "Mean: 0.7555917169555288\n",
      "StandardDeviation: 0.012840769526328722\n"
     ]
    }
   ],
   "source": [
    "# Cross validate\n",
    "\n",
    "knnscores=cross_validate(knn, X_train, y_train, cv=5, scoring=scoring)\n",
    "\n",
    "display_scores(knnscores)"
   ]
  },
  {
   "cell_type": "markdown",
   "metadata": {},
   "source": [
    "#### Cross Validation for SVC"
   ]
  },
  {
   "cell_type": "code",
   "execution_count": 181,
   "metadata": {},
   "outputs": [
    {
     "name": "stdout",
     "output_type": "stream",
     "text": [
      "Scores: [0.79148181 0.78793256 0.81100266 0.78793256 0.80373002]\n",
      "Mean: 0.7964159236943676\n",
      "StandardDeviation: 0.009322544218499578\n"
     ]
    }
   ],
   "source": [
    "# Cross validate\n",
    "\n",
    "svc_scores=cross_validate(svc, X_train, y_train, cv=5, scoring=scoring)\n",
    "\n",
    "display_scores(svc_scores)"
   ]
  },
  {
   "cell_type": "markdown",
   "metadata": {},
   "source": [
    "#### Model Evaluation\n",
    "After carrying out the 5-fold cross validation the following accuracy scores and the standard deviation were obtained:"
   ]
  },
  {
   "cell_type": "code",
   "execution_count": 191,
   "metadata": {
    "scrolled": false
   },
   "outputs": [
    {
     "data": {
      "text/html": [
       "<div>\n",
       "<style scoped>\n",
       "    .dataframe tbody tr th:only-of-type {\n",
       "        vertical-align: middle;\n",
       "    }\n",
       "\n",
       "    .dataframe tbody tr th {\n",
       "        vertical-align: top;\n",
       "    }\n",
       "\n",
       "    .dataframe thead th {\n",
       "        text-align: right;\n",
       "    }\n",
       "</style>\n",
       "<table border=\"1\" class=\"dataframe\">\n",
       "  <thead>\n",
       "    <tr style=\"text-align: right;\">\n",
       "      <th></th>\n",
       "      <th>Model</th>\n",
       "      <th>Accuracy_Score</th>\n",
       "      <th>Standard Deviation</th>\n",
       "    </tr>\n",
       "  </thead>\n",
       "  <tbody>\n",
       "    <tr>\n",
       "      <th>0</th>\n",
       "      <td>Logistic Regression</td>\n",
       "      <td>0.803870</td>\n",
       "      <td>0.010074</td>\n",
       "    </tr>\n",
       "    <tr>\n",
       "      <th>1</th>\n",
       "      <td>Decision Tree</td>\n",
       "      <td>0.727901</td>\n",
       "      <td>0.013060</td>\n",
       "    </tr>\n",
       "    <tr>\n",
       "      <th>2</th>\n",
       "      <td>Random Forest</td>\n",
       "      <td>0.797834</td>\n",
       "      <td>0.009741</td>\n",
       "    </tr>\n",
       "    <tr>\n",
       "      <th>3</th>\n",
       "      <td>K-nearest neighbor</td>\n",
       "      <td>0.755592</td>\n",
       "      <td>0.012841</td>\n",
       "    </tr>\n",
       "    <tr>\n",
       "      <th>4</th>\n",
       "      <td>Support Vector Machine</td>\n",
       "      <td>0.796416</td>\n",
       "      <td>0.009323</td>\n",
       "    </tr>\n",
       "  </tbody>\n",
       "</table>\n",
       "</div>"
      ],
      "text/plain": [
       "                    Model  Accuracy_Score  Standard Deviation\n",
       "0     Logistic Regression        0.803870            0.010074\n",
       "1           Decision Tree        0.727901            0.013060\n",
       "2           Random Forest        0.797834            0.009741\n",
       "3      K-nearest neighbor        0.755592            0.012841\n",
       "4  Support Vector Machine        0.796416            0.009323"
      ]
     },
     "execution_count": 191,
     "metadata": {},
     "output_type": "execute_result"
    }
   ],
   "source": [
    "Model_comparison_CrossVal = pd.DataFrame({\n",
    "    'Model':['Logistic Regression', 'Decision Tree', 'Random Forest', 'K-nearest neighbor','Support Vector Machine'],\n",
    "    'Accuracy_Score':[logreg_scores['test_accuracy'].mean(),treescores['test_accuracy'].mean(),rforestscores['test_accuracy'].mean(),knnscores['test_accuracy'].mean(),svc_scores['test_accuracy'].mean()],\n",
    "    'Standard Deviation':[logreg_scores['test_accuracy'].std(),treescores['test_accuracy'].std(),rforestscores['test_accuracy'].std(),knnscores['test_accuracy'].std(),svc_scores['test_accuracy'].std()],\n",
    "})\n",
    "\n",
    "Model_comparison_CrossVal"
   ]
  },
  {
   "cell_type": "markdown",
   "metadata": {},
   "source": [
    "The 5-fold Cross Validation was used to compare the models. The Logistic Regression model performed the best with an accuracy_score of 0.80 and a standard deviation of +/- 0.010."
   ]
  },
  {
   "cell_type": "markdown",
   "metadata": {},
   "source": [
    "### Grid Search CV\n",
    "\n",
    "For each model different hyperparameters were tried so as to improve the performance of each model."
   ]
  },
  {
   "cell_type": "markdown",
   "metadata": {},
   "source": [
    "#### GridSearchCV for Logistic Regression with Regularization"
   ]
  },
  {
   "cell_type": "code",
   "execution_count": 45,
   "metadata": {},
   "outputs": [],
   "source": [
    "# import GridSearchCV\n",
    "\n",
    "from sklearn.model_selection import GridSearchCV"
   ]
  },
  {
   "cell_type": "code",
   "execution_count": 46,
   "metadata": {},
   "outputs": [],
   "source": [
    "# prepare grid\n",
    "# (3x2) combinations of hyperparameters\n",
    "# solver =liblinear and c same with penalty\n",
    "grid = [{'C':[0.01,0.1,1], 'penalty':['l1','l2'],'solver':['liblinear']},\n",
    "   #then try \n",
    "        {'C':[0.01,0.1,1],'penalty':['l2'],'solver':['lbfgs']}\n",
    "         ]\n",
    "\n",
    "logreg = LogisticRegression(random_state=50, max_iter=5000)"
   ]
  },
  {
   "cell_type": "code",
   "execution_count": 47,
   "metadata": {},
   "outputs": [
    {
     "data": {
      "text/plain": [
       "GridSearchCV(cv=5, estimator=LogisticRegression(max_iter=5000, random_state=50),\n",
       "             param_grid=[{'C': [0.01, 0.1, 1], 'penalty': ['l1', 'l2'],\n",
       "                          'solver': ['liblinear']},\n",
       "                         {'C': [0.01, 0.1, 1], 'penalty': ['l2'],\n",
       "                          'solver': ['lbfgs']}],\n",
       "             return_train_score=True)"
      ]
     },
     "execution_count": 47,
     "metadata": {},
     "output_type": "execute_result"
    }
   ],
   "source": [
    "# instantiate\n",
    "grid_search_logreg = GridSearchCV(estimator=logreg, param_grid= grid, cv=5, return_train_score=True)\n",
    "\n",
    "grid_search_logreg.fit(X_train, y_train)"
   ]
  },
  {
   "cell_type": "code",
   "execution_count": 62,
   "metadata": {
    "scrolled": true
   },
   "outputs": [
    {
     "data": {
      "text/html": [
       "<div>\n",
       "<style scoped>\n",
       "    .dataframe tbody tr th:only-of-type {\n",
       "        vertical-align: middle;\n",
       "    }\n",
       "\n",
       "    .dataframe tbody tr th {\n",
       "        vertical-align: top;\n",
       "    }\n",
       "\n",
       "    .dataframe thead th {\n",
       "        text-align: right;\n",
       "    }\n",
       "</style>\n",
       "<table border=\"1\" class=\"dataframe\">\n",
       "  <thead>\n",
       "    <tr style=\"text-align: right;\">\n",
       "      <th></th>\n",
       "      <th>param_C</th>\n",
       "      <th>param_penalty</th>\n",
       "      <th>mean_test_score</th>\n",
       "      <th>std_test_score</th>\n",
       "    </tr>\n",
       "  </thead>\n",
       "  <tbody>\n",
       "    <tr>\n",
       "      <th>0</th>\n",
       "      <td>0.01</td>\n",
       "      <td>l1</td>\n",
       "      <td>0.788607</td>\n",
       "      <td>0.008577</td>\n",
       "    </tr>\n",
       "    <tr>\n",
       "      <th>1</th>\n",
       "      <td>0.01</td>\n",
       "      <td>l2</td>\n",
       "      <td>0.804403</td>\n",
       "      <td>0.009211</td>\n",
       "    </tr>\n",
       "    <tr>\n",
       "      <th>2</th>\n",
       "      <td>0.1</td>\n",
       "      <td>l1</td>\n",
       "      <td>0.806354</td>\n",
       "      <td>0.009931</td>\n",
       "    </tr>\n",
       "    <tr>\n",
       "      <th>3</th>\n",
       "      <td>0.1</td>\n",
       "      <td>l2</td>\n",
       "      <td>0.805290</td>\n",
       "      <td>0.010887</td>\n",
       "    </tr>\n",
       "    <tr>\n",
       "      <th>4</th>\n",
       "      <td>1</td>\n",
       "      <td>l1</td>\n",
       "      <td>0.804048</td>\n",
       "      <td>0.010041</td>\n",
       "    </tr>\n",
       "    <tr>\n",
       "      <th>5</th>\n",
       "      <td>1</td>\n",
       "      <td>l2</td>\n",
       "      <td>0.803693</td>\n",
       "      <td>0.010229</td>\n",
       "    </tr>\n",
       "    <tr>\n",
       "      <th>6</th>\n",
       "      <td>0.01</td>\n",
       "      <td>l2</td>\n",
       "      <td>0.804225</td>\n",
       "      <td>0.009186</td>\n",
       "    </tr>\n",
       "    <tr>\n",
       "      <th>7</th>\n",
       "      <td>0.1</td>\n",
       "      <td>l2</td>\n",
       "      <td>0.804225</td>\n",
       "      <td>0.011687</td>\n",
       "    </tr>\n",
       "    <tr>\n",
       "      <th>8</th>\n",
       "      <td>1</td>\n",
       "      <td>l2</td>\n",
       "      <td>0.803870</td>\n",
       "      <td>0.010074</td>\n",
       "    </tr>\n",
       "  </tbody>\n",
       "</table>\n",
       "</div>"
      ],
      "text/plain": [
       "  param_C param_penalty  mean_test_score  std_test_score\n",
       "0    0.01            l1         0.788607        0.008577\n",
       "1    0.01            l2         0.804403        0.009211\n",
       "2     0.1            l1         0.806354        0.009931\n",
       "3     0.1            l2         0.805290        0.010887\n",
       "4       1            l1         0.804048        0.010041\n",
       "5       1            l2         0.803693        0.010229\n",
       "6    0.01            l2         0.804225        0.009186\n",
       "7     0.1            l2         0.804225        0.011687\n",
       "8       1            l2         0.803870        0.010074"
      ]
     },
     "execution_count": 62,
     "metadata": {},
     "output_type": "execute_result"
    }
   ],
   "source": [
    "pd.DataFrame(grid_search_logreg.cv_results_)[['param_C','param_penalty','mean_test_score','std_test_score']]"
   ]
  },
  {
   "cell_type": "code",
   "execution_count": 63,
   "metadata": {},
   "outputs": [
    {
     "data": {
      "text/plain": [
       "0.8063544423097836"
      ]
     },
     "execution_count": 63,
     "metadata": {},
     "output_type": "execute_result"
    }
   ],
   "source": [
    "# Accuracy score using the best estimator\n",
    "final_logregscore = grid_search_logreg.best_score_\n",
    "\n",
    "final_logregscore"
   ]
  },
  {
   "cell_type": "code",
   "execution_count": 64,
   "metadata": {},
   "outputs": [
    {
     "data": {
      "text/plain": [
       "LogisticRegression(C=0.1, max_iter=5000, penalty='l1', random_state=50,\n",
       "                   solver='liblinear')"
      ]
     },
     "execution_count": 64,
     "metadata": {},
     "output_type": "execute_result"
    }
   ],
   "source": [
    "grid_search_logreg.best_estimator_"
   ]
  },
  {
   "cell_type": "markdown",
   "metadata": {},
   "source": [
    "Interestingly, the Logistic Regression model remained more or less the same even after fine tuning with the GridSearch CV. The score final score after using the best estimator was 0.806 =/- 0.01, previously 0.803 =/- 0.01 using the cross validation."
   ]
  },
  {
   "cell_type": "markdown",
   "metadata": {},
   "source": [
    " #### GridSearchCV - Decision Tree"
   ]
  },
  {
   "cell_type": "code",
   "execution_count": 110,
   "metadata": {},
   "outputs": [
    {
     "data": {
      "text/plain": [
       "GridSearchCV(cv=5, estimator=DecisionTreeClassifier(random_state=100),\n",
       "             param_grid=[{'criterion': ['entropy', 'gini'],\n",
       "                          'max_depth': [3, 5, 7], 'min_samples_leaf': [5]}],\n",
       "             return_train_score=True)"
      ]
     },
     "execution_count": 110,
     "metadata": {},
     "output_type": "execute_result"
    }
   ],
   "source": [
    "# Combination of hyperparameters\n",
    "dtree_grid = [\n",
    "    # Try  combinations of hyperparameters\n",
    "    {'min_samples_leaf':[5],'max_depth':[3,5,7],'criterion':['entropy','gini']}\n",
    "]    \n",
    "\n",
    "dtree = DecisionTreeClassifier(random_state=100)\n",
    "\n",
    "grid_search_dtree = GridSearchCV(estimator=dtree, param_grid = dtree_grid, cv=5, return_train_score=True)\n",
    "\n",
    "grid_search_dtree.fit(X_train, y_train)"
   ]
  },
  {
   "cell_type": "code",
   "execution_count": 204,
   "metadata": {},
   "outputs": [
    {
     "data": {
      "text/html": [
       "<div>\n",
       "<style scoped>\n",
       "    .dataframe tbody tr th:only-of-type {\n",
       "        vertical-align: middle;\n",
       "    }\n",
       "\n",
       "    .dataframe tbody tr th {\n",
       "        vertical-align: top;\n",
       "    }\n",
       "\n",
       "    .dataframe thead th {\n",
       "        text-align: right;\n",
       "    }\n",
       "</style>\n",
       "<table border=\"1\" class=\"dataframe\">\n",
       "  <thead>\n",
       "    <tr style=\"text-align: right;\">\n",
       "      <th></th>\n",
       "      <th>param_min_samples_leaf</th>\n",
       "      <th>param_max_depth</th>\n",
       "      <th>param_criterion</th>\n",
       "      <th>mean_test_score</th>\n",
       "      <th>std_test_score</th>\n",
       "    </tr>\n",
       "  </thead>\n",
       "  <tbody>\n",
       "    <tr>\n",
       "      <th>0</th>\n",
       "      <td>5</td>\n",
       "      <td>3</td>\n",
       "      <td>entropy</td>\n",
       "      <td>0.791091</td>\n",
       "      <td>0.005781</td>\n",
       "    </tr>\n",
       "    <tr>\n",
       "      <th>1</th>\n",
       "      <td>5</td>\n",
       "      <td>5</td>\n",
       "      <td>entropy</td>\n",
       "      <td>0.792689</td>\n",
       "      <td>0.008736</td>\n",
       "    </tr>\n",
       "    <tr>\n",
       "      <th>2</th>\n",
       "      <td>5</td>\n",
       "      <td>7</td>\n",
       "      <td>entropy</td>\n",
       "      <td>0.781331</td>\n",
       "      <td>0.012035</td>\n",
       "    </tr>\n",
       "    <tr>\n",
       "      <th>3</th>\n",
       "      <td>5</td>\n",
       "      <td>3</td>\n",
       "      <td>gini</td>\n",
       "      <td>0.790736</td>\n",
       "      <td>0.006370</td>\n",
       "    </tr>\n",
       "    <tr>\n",
       "      <th>4</th>\n",
       "      <td>5</td>\n",
       "      <td>5</td>\n",
       "      <td>gini</td>\n",
       "      <td>0.790382</td>\n",
       "      <td>0.009204</td>\n",
       "    </tr>\n",
       "    <tr>\n",
       "      <th>5</th>\n",
       "      <td>5</td>\n",
       "      <td>7</td>\n",
       "      <td>gini</td>\n",
       "      <td>0.777603</td>\n",
       "      <td>0.017054</td>\n",
       "    </tr>\n",
       "  </tbody>\n",
       "</table>\n",
       "</div>"
      ],
      "text/plain": [
       "  param_min_samples_leaf param_max_depth param_criterion  mean_test_score  \\\n",
       "0                      5               3         entropy         0.791091   \n",
       "1                      5               5         entropy         0.792689   \n",
       "2                      5               7         entropy         0.781331   \n",
       "3                      5               3            gini         0.790736   \n",
       "4                      5               5            gini         0.790382   \n",
       "5                      5               7            gini         0.777603   \n",
       "\n",
       "   std_test_score  \n",
       "0        0.005781  \n",
       "1        0.008736  \n",
       "2        0.012035  \n",
       "3        0.006370  \n",
       "4        0.009204  \n",
       "5        0.017054  "
      ]
     },
     "execution_count": 204,
     "metadata": {},
     "output_type": "execute_result"
    }
   ],
   "source": [
    "pd.DataFrame(grid_search_dtree.cv_results_)[['param_min_samples_leaf','param_max_depth','param_criterion','mean_test_score','std_test_score']]"
   ]
  },
  {
   "cell_type": "code",
   "execution_count": 120,
   "metadata": {},
   "outputs": [
    {
     "data": {
      "text/plain": [
       "0.792689058015669"
      ]
     },
     "execution_count": 120,
     "metadata": {},
     "output_type": "execute_result"
    }
   ],
   "source": [
    "# Accuracy score using the best estimator\n",
    "final_dtscore = grid_search_dtree.best_score_\n",
    "\n",
    "final_dtscore"
   ]
  },
  {
   "cell_type": "markdown",
   "metadata": {},
   "source": [
    "After using the GridSearch CV there is a big improvement in the performance of the accuracy of the Decision Tree model from 0.729 =/- 0.013 using cross validation to 0.792 +/- 0.006."
   ]
  },
  {
   "cell_type": "markdown",
   "metadata": {},
   "source": [
    " #### GridSearchCV - Random Forest"
   ]
  },
  {
   "cell_type": "code",
   "execution_count": 83,
   "metadata": {},
   "outputs": [
    {
     "data": {
      "text/plain": [
       "GridSearchCV(cv=5, estimator=RandomForestClassifier(n_jobs=2, random_state=42),\n",
       "             param_grid=[{'criterion': ['entropy', 'gini'],\n",
       "                          'max_depth': [10, 15, 20],\n",
       "                          'max_features': ['auto', 'sqrt', 'log2'],\n",
       "                          'n_estimators': [10, 200, 300]}],\n",
       "             return_train_score=True)"
      ]
     },
     "execution_count": 83,
     "metadata": {},
     "output_type": "execute_result"
    }
   ],
   "source": [
    "# Combination of hyperparameters\n",
    "rforest_grid = [\n",
    "    # Try  combinations of hyperparameters\n",
    "    {'n_estimators':[10,200,300], 'max_features':['auto','sqrt','log2'],'max_depth':[10,15,20],'criterion':['entropy','gini']}\n",
    "]    \n",
    "\n",
    "rforest = RandomForestClassifier(n_jobs=2, random_state=42)\n",
    "\n",
    "grid_search_rforest = GridSearchCV(estimator=rforest, param_grid = rforest_grid, cv=5, return_train_score=True)\n",
    "\n",
    "grid_search_rforest.fit(X_train, y_train)"
   ]
  },
  {
   "cell_type": "code",
   "execution_count": 217,
   "metadata": {},
   "outputs": [
    {
     "data": {
      "text/html": [
       "<div>\n",
       "<style scoped>\n",
       "    .dataframe tbody tr th:only-of-type {\n",
       "        vertical-align: middle;\n",
       "    }\n",
       "\n",
       "    .dataframe tbody tr th {\n",
       "        vertical-align: top;\n",
       "    }\n",
       "\n",
       "    .dataframe thead th {\n",
       "        text-align: right;\n",
       "    }\n",
       "</style>\n",
       "<table border=\"1\" class=\"dataframe\">\n",
       "  <thead>\n",
       "    <tr style=\"text-align: right;\">\n",
       "      <th></th>\n",
       "      <th>param_criterion</th>\n",
       "      <th>param_max_depth</th>\n",
       "      <th>param_max_features</th>\n",
       "      <th>param_n_estimators</th>\n",
       "      <th>mean_test_score</th>\n",
       "      <th>std_test_score</th>\n",
       "    </tr>\n",
       "  </thead>\n",
       "  <tbody>\n",
       "    <tr>\n",
       "      <th>0</th>\n",
       "      <td>entropy</td>\n",
       "      <td>10</td>\n",
       "      <td>auto</td>\n",
       "      <td>10</td>\n",
       "      <td>0.789494</td>\n",
       "      <td>0.015091</td>\n",
       "    </tr>\n",
       "    <tr>\n",
       "      <th>1</th>\n",
       "      <td>entropy</td>\n",
       "      <td>10</td>\n",
       "      <td>auto</td>\n",
       "      <td>200</td>\n",
       "      <td>0.797124</td>\n",
       "      <td>0.011888</td>\n",
       "    </tr>\n",
       "    <tr>\n",
       "      <th>2</th>\n",
       "      <td>entropy</td>\n",
       "      <td>10</td>\n",
       "      <td>auto</td>\n",
       "      <td>300</td>\n",
       "      <td>0.797124</td>\n",
       "      <td>0.012744</td>\n",
       "    </tr>\n",
       "    <tr>\n",
       "      <th>3</th>\n",
       "      <td>entropy</td>\n",
       "      <td>10</td>\n",
       "      <td>sqrt</td>\n",
       "      <td>10</td>\n",
       "      <td>0.789494</td>\n",
       "      <td>0.015091</td>\n",
       "    </tr>\n",
       "    <tr>\n",
       "      <th>4</th>\n",
       "      <td>entropy</td>\n",
       "      <td>10</td>\n",
       "      <td>sqrt</td>\n",
       "      <td>200</td>\n",
       "      <td>0.797124</td>\n",
       "      <td>0.011888</td>\n",
       "    </tr>\n",
       "    <tr>\n",
       "      <th>5</th>\n",
       "      <td>entropy</td>\n",
       "      <td>10</td>\n",
       "      <td>sqrt</td>\n",
       "      <td>300</td>\n",
       "      <td>0.797124</td>\n",
       "      <td>0.012744</td>\n",
       "    </tr>\n",
       "    <tr>\n",
       "      <th>6</th>\n",
       "      <td>entropy</td>\n",
       "      <td>10</td>\n",
       "      <td>log2</td>\n",
       "      <td>10</td>\n",
       "      <td>0.790735</td>\n",
       "      <td>0.011594</td>\n",
       "    </tr>\n",
       "    <tr>\n",
       "      <th>7</th>\n",
       "      <td>entropy</td>\n",
       "      <td>10</td>\n",
       "      <td>log2</td>\n",
       "      <td>200</td>\n",
       "      <td>0.799254</td>\n",
       "      <td>0.010442</td>\n",
       "    </tr>\n",
       "    <tr>\n",
       "      <th>8</th>\n",
       "      <td>entropy</td>\n",
       "      <td>10</td>\n",
       "      <td>log2</td>\n",
       "      <td>300</td>\n",
       "      <td>0.798189</td>\n",
       "      <td>0.011503</td>\n",
       "    </tr>\n",
       "    <tr>\n",
       "      <th>9</th>\n",
       "      <td>entropy</td>\n",
       "      <td>15</td>\n",
       "      <td>auto</td>\n",
       "      <td>10</td>\n",
       "      <td>0.784877</td>\n",
       "      <td>0.012135</td>\n",
       "    </tr>\n",
       "    <tr>\n",
       "      <th>10</th>\n",
       "      <td>entropy</td>\n",
       "      <td>15</td>\n",
       "      <td>auto</td>\n",
       "      <td>200</td>\n",
       "      <td>0.789492</td>\n",
       "      <td>0.010801</td>\n",
       "    </tr>\n",
       "    <tr>\n",
       "      <th>11</th>\n",
       "      <td>entropy</td>\n",
       "      <td>15</td>\n",
       "      <td>auto</td>\n",
       "      <td>300</td>\n",
       "      <td>0.790025</td>\n",
       "      <td>0.010542</td>\n",
       "    </tr>\n",
       "    <tr>\n",
       "      <th>12</th>\n",
       "      <td>entropy</td>\n",
       "      <td>15</td>\n",
       "      <td>sqrt</td>\n",
       "      <td>10</td>\n",
       "      <td>0.784877</td>\n",
       "      <td>0.012135</td>\n",
       "    </tr>\n",
       "    <tr>\n",
       "      <th>13</th>\n",
       "      <td>entropy</td>\n",
       "      <td>15</td>\n",
       "      <td>sqrt</td>\n",
       "      <td>200</td>\n",
       "      <td>0.789492</td>\n",
       "      <td>0.010801</td>\n",
       "    </tr>\n",
       "    <tr>\n",
       "      <th>14</th>\n",
       "      <td>entropy</td>\n",
       "      <td>15</td>\n",
       "      <td>sqrt</td>\n",
       "      <td>300</td>\n",
       "      <td>0.790025</td>\n",
       "      <td>0.010542</td>\n",
       "    </tr>\n",
       "    <tr>\n",
       "      <th>15</th>\n",
       "      <td>entropy</td>\n",
       "      <td>15</td>\n",
       "      <td>log2</td>\n",
       "      <td>10</td>\n",
       "      <td>0.783280</td>\n",
       "      <td>0.008159</td>\n",
       "    </tr>\n",
       "    <tr>\n",
       "      <th>16</th>\n",
       "      <td>entropy</td>\n",
       "      <td>15</td>\n",
       "      <td>log2</td>\n",
       "      <td>200</td>\n",
       "      <td>0.792155</td>\n",
       "      <td>0.011952</td>\n",
       "    </tr>\n",
       "    <tr>\n",
       "      <th>17</th>\n",
       "      <td>entropy</td>\n",
       "      <td>15</td>\n",
       "      <td>log2</td>\n",
       "      <td>300</td>\n",
       "      <td>0.789669</td>\n",
       "      <td>0.012506</td>\n",
       "    </tr>\n",
       "    <tr>\n",
       "      <th>18</th>\n",
       "      <td>entropy</td>\n",
       "      <td>20</td>\n",
       "      <td>auto</td>\n",
       "      <td>10</td>\n",
       "      <td>0.779730</td>\n",
       "      <td>0.014391</td>\n",
       "    </tr>\n",
       "    <tr>\n",
       "      <th>19</th>\n",
       "      <td>entropy</td>\n",
       "      <td>20</td>\n",
       "      <td>auto</td>\n",
       "      <td>200</td>\n",
       "      <td>0.787716</td>\n",
       "      <td>0.013543</td>\n",
       "    </tr>\n",
       "    <tr>\n",
       "      <th>20</th>\n",
       "      <td>entropy</td>\n",
       "      <td>20</td>\n",
       "      <td>auto</td>\n",
       "      <td>300</td>\n",
       "      <td>0.787362</td>\n",
       "      <td>0.012531</td>\n",
       "    </tr>\n",
       "    <tr>\n",
       "      <th>21</th>\n",
       "      <td>entropy</td>\n",
       "      <td>20</td>\n",
       "      <td>sqrt</td>\n",
       "      <td>10</td>\n",
       "      <td>0.779730</td>\n",
       "      <td>0.014391</td>\n",
       "    </tr>\n",
       "    <tr>\n",
       "      <th>22</th>\n",
       "      <td>entropy</td>\n",
       "      <td>20</td>\n",
       "      <td>sqrt</td>\n",
       "      <td>200</td>\n",
       "      <td>0.787716</td>\n",
       "      <td>0.013543</td>\n",
       "    </tr>\n",
       "    <tr>\n",
       "      <th>23</th>\n",
       "      <td>entropy</td>\n",
       "      <td>20</td>\n",
       "      <td>sqrt</td>\n",
       "      <td>300</td>\n",
       "      <td>0.787362</td>\n",
       "      <td>0.012531</td>\n",
       "    </tr>\n",
       "    <tr>\n",
       "      <th>24</th>\n",
       "      <td>entropy</td>\n",
       "      <td>20</td>\n",
       "      <td>log2</td>\n",
       "      <td>10</td>\n",
       "      <td>0.780084</td>\n",
       "      <td>0.012883</td>\n",
       "    </tr>\n",
       "    <tr>\n",
       "      <th>25</th>\n",
       "      <td>entropy</td>\n",
       "      <td>20</td>\n",
       "      <td>log2</td>\n",
       "      <td>200</td>\n",
       "      <td>0.788781</td>\n",
       "      <td>0.012432</td>\n",
       "    </tr>\n",
       "    <tr>\n",
       "      <th>26</th>\n",
       "      <td>entropy</td>\n",
       "      <td>20</td>\n",
       "      <td>log2</td>\n",
       "      <td>300</td>\n",
       "      <td>0.787361</td>\n",
       "      <td>0.011977</td>\n",
       "    </tr>\n",
       "    <tr>\n",
       "      <th>27</th>\n",
       "      <td>gini</td>\n",
       "      <td>10</td>\n",
       "      <td>auto</td>\n",
       "      <td>10</td>\n",
       "      <td>0.792331</td>\n",
       "      <td>0.011423</td>\n",
       "    </tr>\n",
       "    <tr>\n",
       "      <th>28</th>\n",
       "      <td>gini</td>\n",
       "      <td>10</td>\n",
       "      <td>auto</td>\n",
       "      <td>200</td>\n",
       "      <td>0.798366</td>\n",
       "      <td>0.009198</td>\n",
       "    </tr>\n",
       "    <tr>\n",
       "      <th>29</th>\n",
       "      <td>gini</td>\n",
       "      <td>10</td>\n",
       "      <td>auto</td>\n",
       "      <td>300</td>\n",
       "      <td>0.797656</td>\n",
       "      <td>0.010863</td>\n",
       "    </tr>\n",
       "    <tr>\n",
       "      <th>30</th>\n",
       "      <td>gini</td>\n",
       "      <td>10</td>\n",
       "      <td>sqrt</td>\n",
       "      <td>10</td>\n",
       "      <td>0.792331</td>\n",
       "      <td>0.011423</td>\n",
       "    </tr>\n",
       "    <tr>\n",
       "      <th>31</th>\n",
       "      <td>gini</td>\n",
       "      <td>10</td>\n",
       "      <td>sqrt</td>\n",
       "      <td>200</td>\n",
       "      <td>0.798366</td>\n",
       "      <td>0.009198</td>\n",
       "    </tr>\n",
       "    <tr>\n",
       "      <th>32</th>\n",
       "      <td>gini</td>\n",
       "      <td>10</td>\n",
       "      <td>sqrt</td>\n",
       "      <td>300</td>\n",
       "      <td>0.797656</td>\n",
       "      <td>0.010863</td>\n",
       "    </tr>\n",
       "    <tr>\n",
       "      <th>33</th>\n",
       "      <td>gini</td>\n",
       "      <td>10</td>\n",
       "      <td>log2</td>\n",
       "      <td>10</td>\n",
       "      <td>0.797299</td>\n",
       "      <td>0.014553</td>\n",
       "    </tr>\n",
       "    <tr>\n",
       "      <th>34</th>\n",
       "      <td>gini</td>\n",
       "      <td>10</td>\n",
       "      <td>log2</td>\n",
       "      <td>200</td>\n",
       "      <td>0.799076</td>\n",
       "      <td>0.011343</td>\n",
       "    </tr>\n",
       "    <tr>\n",
       "      <th>35</th>\n",
       "      <td>gini</td>\n",
       "      <td>10</td>\n",
       "      <td>log2</td>\n",
       "      <td>300</td>\n",
       "      <td>0.799609</td>\n",
       "      <td>0.010842</td>\n",
       "    </tr>\n",
       "    <tr>\n",
       "      <th>36</th>\n",
       "      <td>gini</td>\n",
       "      <td>15</td>\n",
       "      <td>auto</td>\n",
       "      <td>10</td>\n",
       "      <td>0.776003</td>\n",
       "      <td>0.009106</td>\n",
       "    </tr>\n",
       "    <tr>\n",
       "      <th>37</th>\n",
       "      <td>gini</td>\n",
       "      <td>15</td>\n",
       "      <td>auto</td>\n",
       "      <td>200</td>\n",
       "      <td>0.790910</td>\n",
       "      <td>0.012789</td>\n",
       "    </tr>\n",
       "    <tr>\n",
       "      <th>38</th>\n",
       "      <td>gini</td>\n",
       "      <td>15</td>\n",
       "      <td>auto</td>\n",
       "      <td>300</td>\n",
       "      <td>0.790378</td>\n",
       "      <td>0.010398</td>\n",
       "    </tr>\n",
       "    <tr>\n",
       "      <th>39</th>\n",
       "      <td>gini</td>\n",
       "      <td>15</td>\n",
       "      <td>sqrt</td>\n",
       "      <td>10</td>\n",
       "      <td>0.776003</td>\n",
       "      <td>0.009106</td>\n",
       "    </tr>\n",
       "    <tr>\n",
       "      <th>40</th>\n",
       "      <td>gini</td>\n",
       "      <td>15</td>\n",
       "      <td>sqrt</td>\n",
       "      <td>200</td>\n",
       "      <td>0.790910</td>\n",
       "      <td>0.012789</td>\n",
       "    </tr>\n",
       "    <tr>\n",
       "      <th>41</th>\n",
       "      <td>gini</td>\n",
       "      <td>15</td>\n",
       "      <td>sqrt</td>\n",
       "      <td>300</td>\n",
       "      <td>0.790378</td>\n",
       "      <td>0.010398</td>\n",
       "    </tr>\n",
       "    <tr>\n",
       "      <th>42</th>\n",
       "      <td>gini</td>\n",
       "      <td>15</td>\n",
       "      <td>log2</td>\n",
       "      <td>10</td>\n",
       "      <td>0.780795</td>\n",
       "      <td>0.009387</td>\n",
       "    </tr>\n",
       "    <tr>\n",
       "      <th>43</th>\n",
       "      <td>gini</td>\n",
       "      <td>15</td>\n",
       "      <td>log2</td>\n",
       "      <td>200</td>\n",
       "      <td>0.789492</td>\n",
       "      <td>0.009820</td>\n",
       "    </tr>\n",
       "    <tr>\n",
       "      <th>44</th>\n",
       "      <td>gini</td>\n",
       "      <td>15</td>\n",
       "      <td>log2</td>\n",
       "      <td>300</td>\n",
       "      <td>0.789492</td>\n",
       "      <td>0.009909</td>\n",
       "    </tr>\n",
       "    <tr>\n",
       "      <th>45</th>\n",
       "      <td>gini</td>\n",
       "      <td>20</td>\n",
       "      <td>auto</td>\n",
       "      <td>10</td>\n",
       "      <td>0.774404</td>\n",
       "      <td>0.010074</td>\n",
       "    </tr>\n",
       "    <tr>\n",
       "      <th>46</th>\n",
       "      <td>gini</td>\n",
       "      <td>20</td>\n",
       "      <td>auto</td>\n",
       "      <td>200</td>\n",
       "      <td>0.787362</td>\n",
       "      <td>0.011076</td>\n",
       "    </tr>\n",
       "    <tr>\n",
       "      <th>47</th>\n",
       "      <td>gini</td>\n",
       "      <td>20</td>\n",
       "      <td>auto</td>\n",
       "      <td>300</td>\n",
       "      <td>0.790379</td>\n",
       "      <td>0.011149</td>\n",
       "    </tr>\n",
       "    <tr>\n",
       "      <th>48</th>\n",
       "      <td>gini</td>\n",
       "      <td>20</td>\n",
       "      <td>sqrt</td>\n",
       "      <td>10</td>\n",
       "      <td>0.774404</td>\n",
       "      <td>0.010074</td>\n",
       "    </tr>\n",
       "    <tr>\n",
       "      <th>49</th>\n",
       "      <td>gini</td>\n",
       "      <td>20</td>\n",
       "      <td>sqrt</td>\n",
       "      <td>200</td>\n",
       "      <td>0.787362</td>\n",
       "      <td>0.011076</td>\n",
       "    </tr>\n",
       "    <tr>\n",
       "      <th>50</th>\n",
       "      <td>gini</td>\n",
       "      <td>20</td>\n",
       "      <td>sqrt</td>\n",
       "      <td>300</td>\n",
       "      <td>0.790379</td>\n",
       "      <td>0.011149</td>\n",
       "    </tr>\n",
       "    <tr>\n",
       "      <th>51</th>\n",
       "      <td>gini</td>\n",
       "      <td>20</td>\n",
       "      <td>log2</td>\n",
       "      <td>10</td>\n",
       "      <td>0.779021</td>\n",
       "      <td>0.011118</td>\n",
       "    </tr>\n",
       "    <tr>\n",
       "      <th>52</th>\n",
       "      <td>gini</td>\n",
       "      <td>20</td>\n",
       "      <td>log2</td>\n",
       "      <td>200</td>\n",
       "      <td>0.787184</td>\n",
       "      <td>0.012708</td>\n",
       "    </tr>\n",
       "    <tr>\n",
       "      <th>53</th>\n",
       "      <td>gini</td>\n",
       "      <td>20</td>\n",
       "      <td>log2</td>\n",
       "      <td>300</td>\n",
       "      <td>0.788959</td>\n",
       "      <td>0.014415</td>\n",
       "    </tr>\n",
       "  </tbody>\n",
       "</table>\n",
       "</div>"
      ],
      "text/plain": [
       "   param_criterion param_max_depth param_max_features param_n_estimators  \\\n",
       "0          entropy              10               auto                 10   \n",
       "1          entropy              10               auto                200   \n",
       "2          entropy              10               auto                300   \n",
       "3          entropy              10               sqrt                 10   \n",
       "4          entropy              10               sqrt                200   \n",
       "5          entropy              10               sqrt                300   \n",
       "6          entropy              10               log2                 10   \n",
       "7          entropy              10               log2                200   \n",
       "8          entropy              10               log2                300   \n",
       "9          entropy              15               auto                 10   \n",
       "10         entropy              15               auto                200   \n",
       "11         entropy              15               auto                300   \n",
       "12         entropy              15               sqrt                 10   \n",
       "13         entropy              15               sqrt                200   \n",
       "14         entropy              15               sqrt                300   \n",
       "15         entropy              15               log2                 10   \n",
       "16         entropy              15               log2                200   \n",
       "17         entropy              15               log2                300   \n",
       "18         entropy              20               auto                 10   \n",
       "19         entropy              20               auto                200   \n",
       "20         entropy              20               auto                300   \n",
       "21         entropy              20               sqrt                 10   \n",
       "22         entropy              20               sqrt                200   \n",
       "23         entropy              20               sqrt                300   \n",
       "24         entropy              20               log2                 10   \n",
       "25         entropy              20               log2                200   \n",
       "26         entropy              20               log2                300   \n",
       "27            gini              10               auto                 10   \n",
       "28            gini              10               auto                200   \n",
       "29            gini              10               auto                300   \n",
       "30            gini              10               sqrt                 10   \n",
       "31            gini              10               sqrt                200   \n",
       "32            gini              10               sqrt                300   \n",
       "33            gini              10               log2                 10   \n",
       "34            gini              10               log2                200   \n",
       "35            gini              10               log2                300   \n",
       "36            gini              15               auto                 10   \n",
       "37            gini              15               auto                200   \n",
       "38            gini              15               auto                300   \n",
       "39            gini              15               sqrt                 10   \n",
       "40            gini              15               sqrt                200   \n",
       "41            gini              15               sqrt                300   \n",
       "42            gini              15               log2                 10   \n",
       "43            gini              15               log2                200   \n",
       "44            gini              15               log2                300   \n",
       "45            gini              20               auto                 10   \n",
       "46            gini              20               auto                200   \n",
       "47            gini              20               auto                300   \n",
       "48            gini              20               sqrt                 10   \n",
       "49            gini              20               sqrt                200   \n",
       "50            gini              20               sqrt                300   \n",
       "51            gini              20               log2                 10   \n",
       "52            gini              20               log2                200   \n",
       "53            gini              20               log2                300   \n",
       "\n",
       "    mean_test_score  std_test_score  \n",
       "0          0.789494        0.015091  \n",
       "1          0.797124        0.011888  \n",
       "2          0.797124        0.012744  \n",
       "3          0.789494        0.015091  \n",
       "4          0.797124        0.011888  \n",
       "5          0.797124        0.012744  \n",
       "6          0.790735        0.011594  \n",
       "7          0.799254        0.010442  \n",
       "8          0.798189        0.011503  \n",
       "9          0.784877        0.012135  \n",
       "10         0.789492        0.010801  \n",
       "11         0.790025        0.010542  \n",
       "12         0.784877        0.012135  \n",
       "13         0.789492        0.010801  \n",
       "14         0.790025        0.010542  \n",
       "15         0.783280        0.008159  \n",
       "16         0.792155        0.011952  \n",
       "17         0.789669        0.012506  \n",
       "18         0.779730        0.014391  \n",
       "19         0.787716        0.013543  \n",
       "20         0.787362        0.012531  \n",
       "21         0.779730        0.014391  \n",
       "22         0.787716        0.013543  \n",
       "23         0.787362        0.012531  \n",
       "24         0.780084        0.012883  \n",
       "25         0.788781        0.012432  \n",
       "26         0.787361        0.011977  \n",
       "27         0.792331        0.011423  \n",
       "28         0.798366        0.009198  \n",
       "29         0.797656        0.010863  \n",
       "30         0.792331        0.011423  \n",
       "31         0.798366        0.009198  \n",
       "32         0.797656        0.010863  \n",
       "33         0.797299        0.014553  \n",
       "34         0.799076        0.011343  \n",
       "35         0.799609        0.010842  \n",
       "36         0.776003        0.009106  \n",
       "37         0.790910        0.012789  \n",
       "38         0.790378        0.010398  \n",
       "39         0.776003        0.009106  \n",
       "40         0.790910        0.012789  \n",
       "41         0.790378        0.010398  \n",
       "42         0.780795        0.009387  \n",
       "43         0.789492        0.009820  \n",
       "44         0.789492        0.009909  \n",
       "45         0.774404        0.010074  \n",
       "46         0.787362        0.011076  \n",
       "47         0.790379        0.011149  \n",
       "48         0.774404        0.010074  \n",
       "49         0.787362        0.011076  \n",
       "50         0.790379        0.011149  \n",
       "51         0.779021        0.011118  \n",
       "52         0.787184        0.012708  \n",
       "53         0.788959        0.014415  "
      ]
     },
     "execution_count": 217,
     "metadata": {},
     "output_type": "execute_result"
    }
   ],
   "source": [
    "pd.DataFrame(grid_search_rforest.cv_results_)[['param_criterion','param_max_depth','param_max_features','param_n_estimators','mean_test_score','std_test_score']]"
   ]
  },
  {
   "cell_type": "code",
   "execution_count": 114,
   "metadata": {},
   "outputs": [
    {
     "data": {
      "text/plain": [
       "0.7996088264636305"
      ]
     },
     "execution_count": 114,
     "metadata": {},
     "output_type": "execute_result"
    }
   ],
   "source": [
    "# Best accuracy score\n",
    "final_rfscore = grid_search_rforest.best_score_\n",
    "\n",
    "final_rfscore"
   ]
  },
  {
   "cell_type": "markdown",
   "metadata": {},
   "source": [
    "The accuracy score for the Random Forest model remained more or less the same even after fine tuning with GridSearch CV an accuracy score is 0.7996 +/- 0.011. The initial accuracy score using cross validation was 0.797 +/- 0.01. "
   ]
  },
  {
   "cell_type": "markdown",
   "metadata": {},
   "source": [
    "#### GridSearchCV - K-Nearest Neighbor"
   ]
  },
  {
   "cell_type": "code",
   "execution_count": 106,
   "metadata": {},
   "outputs": [
    {
     "data": {
      "text/plain": [
       "GridSearchCV(cv=5, estimator=KNeighborsClassifier(),\n",
       "             param_grid=[{'leaf_size': [35, 40], 'n_neighbors': [7, 9]}],\n",
       "             return_train_score=True)"
      ]
     },
     "execution_count": 106,
     "metadata": {},
     "output_type": "execute_result"
    }
   ],
   "source": [
    "# Combination of hyperparameters\n",
    "knn_grid = [\n",
    "    # Try  combinations of hyperparameters\n",
    "    {'leaf_size':[35,40],'n_neighbors':[7,9]}\n",
    "]    \n",
    "\n",
    "knn = KNeighborsClassifier()\n",
    "\n",
    "grid_search_knn = GridSearchCV(estimator=knn, param_grid = knn_grid, cv=5, return_train_score=True)\n",
    "\n",
    "grid_search_knn.fit(X_train, y_train)"
   ]
  },
  {
   "cell_type": "code",
   "execution_count": 220,
   "metadata": {},
   "outputs": [
    {
     "data": {
      "text/html": [
       "<div>\n",
       "<style scoped>\n",
       "    .dataframe tbody tr th:only-of-type {\n",
       "        vertical-align: middle;\n",
       "    }\n",
       "\n",
       "    .dataframe tbody tr th {\n",
       "        vertical-align: top;\n",
       "    }\n",
       "\n",
       "    .dataframe thead th {\n",
       "        text-align: right;\n",
       "    }\n",
       "</style>\n",
       "<table border=\"1\" class=\"dataframe\">\n",
       "  <thead>\n",
       "    <tr style=\"text-align: right;\">\n",
       "      <th></th>\n",
       "      <th>param_leaf_size</th>\n",
       "      <th>param_n_neighbors</th>\n",
       "      <th>mean_test_score</th>\n",
       "      <th>std_test_score</th>\n",
       "    </tr>\n",
       "  </thead>\n",
       "  <tbody>\n",
       "    <tr>\n",
       "      <th>0</th>\n",
       "      <td>35</td>\n",
       "      <td>7</td>\n",
       "      <td>0.762159</td>\n",
       "      <td>0.010246</td>\n",
       "    </tr>\n",
       "    <tr>\n",
       "      <th>1</th>\n",
       "      <td>35</td>\n",
       "      <td>9</td>\n",
       "      <td>0.768018</td>\n",
       "      <td>0.013763</td>\n",
       "    </tr>\n",
       "    <tr>\n",
       "      <th>2</th>\n",
       "      <td>40</td>\n",
       "      <td>7</td>\n",
       "      <td>0.761804</td>\n",
       "      <td>0.010238</td>\n",
       "    </tr>\n",
       "    <tr>\n",
       "      <th>3</th>\n",
       "      <td>40</td>\n",
       "      <td>9</td>\n",
       "      <td>0.768373</td>\n",
       "      <td>0.013766</td>\n",
       "    </tr>\n",
       "  </tbody>\n",
       "</table>\n",
       "</div>"
      ],
      "text/plain": [
       "  param_leaf_size param_n_neighbors  mean_test_score  std_test_score\n",
       "0              35                 7         0.762159        0.010246\n",
       "1              35                 9         0.768018        0.013763\n",
       "2              40                 7         0.761804        0.010238\n",
       "3              40                 9         0.768373        0.013766"
      ]
     },
     "execution_count": 220,
     "metadata": {},
     "output_type": "execute_result"
    }
   ],
   "source": [
    "pd.DataFrame(grid_search_knn.cv_results_)[['param_leaf_size','param_n_neighbors','mean_test_score','std_test_score']]"
   ]
  },
  {
   "cell_type": "code",
   "execution_count": 115,
   "metadata": {},
   "outputs": [
    {
     "data": {
      "text/plain": [
       "0.7683729418866163"
      ]
     },
     "execution_count": 115,
     "metadata": {},
     "output_type": "execute_result"
    }
   ],
   "source": [
    "# Final accuracy score\n",
    "\n",
    "final_knnscore = grid_search_knn.best_score_\n",
    "\n",
    "final_knnscore"
   ]
  },
  {
   "cell_type": "markdown",
   "metadata": {},
   "source": [
    "There was a slight improvement in the best score for K-nearest neighbors after fine tuning with the GridSearch CV. It rose from 0.756 +/- 0.101 with cross validation to 0.768 +/- 0.014."
   ]
  },
  {
   "cell_type": "markdown",
   "metadata": {},
   "source": [
    " #### GridSearchCV - SVM"
   ]
  },
  {
   "cell_type": "code",
   "execution_count": 64,
   "metadata": {},
   "outputs": [
    {
     "name": "stdout",
     "output_type": "stream",
     "text": [
      "Fitting 5 folds for each of 6 candidates, totalling 30 fits\n",
      "[CV] C=0.1, kernel=rbf ...............................................\n"
     ]
    },
    {
     "name": "stderr",
     "output_type": "stream",
     "text": [
      "[Parallel(n_jobs=1)]: Using backend SequentialBackend with 1 concurrent workers.\n"
     ]
    },
    {
     "name": "stdout",
     "output_type": "stream",
     "text": [
      "[CV] ................................ C=0.1, kernel=rbf, total=   1.6s\n",
      "[CV] C=0.1, kernel=rbf ...............................................\n"
     ]
    },
    {
     "name": "stderr",
     "output_type": "stream",
     "text": [
      "[Parallel(n_jobs=1)]: Done   1 out of   1 | elapsed:    2.5s remaining:    0.0s\n"
     ]
    },
    {
     "name": "stdout",
     "output_type": "stream",
     "text": [
      "[CV] ................................ C=0.1, kernel=rbf, total=   1.5s\n",
      "[CV] C=0.1, kernel=rbf ...............................................\n",
      "[CV] ................................ C=0.1, kernel=rbf, total=   1.6s\n",
      "[CV] C=0.1, kernel=rbf ...............................................\n",
      "[CV] ................................ C=0.1, kernel=rbf, total=   1.7s\n",
      "[CV] C=0.1, kernel=rbf ...............................................\n",
      "[CV] ................................ C=0.1, kernel=rbf, total=   1.6s\n",
      "[CV] C=0.1, kernel=linear ............................................\n",
      "[CV] ............................. C=0.1, kernel=linear, total= 9.9min\n",
      "[CV] C=0.1, kernel=linear ............................................\n",
      "[CV] ............................. C=0.1, kernel=linear, total= 6.8min\n",
      "[CV] C=0.1, kernel=linear ............................................\n",
      "[CV] ............................. C=0.1, kernel=linear, total=10.9min\n",
      "[CV] C=0.1, kernel=linear ............................................\n",
      "[CV] ............................. C=0.1, kernel=linear, total= 9.2min\n",
      "[CV] C=0.1, kernel=linear ............................................\n",
      "[CV] ............................. C=0.1, kernel=linear, total=37.2min\n",
      "[CV] C=1, kernel=rbf .................................................\n",
      "[CV] .................................. C=1, kernel=rbf, total=   1.7s\n",
      "[CV] C=1, kernel=rbf .................................................\n",
      "[CV] .................................. C=1, kernel=rbf, total=   1.7s\n",
      "[CV] C=1, kernel=rbf .................................................\n",
      "[CV] .................................. C=1, kernel=rbf, total=   1.7s\n",
      "[CV] C=1, kernel=rbf .................................................\n",
      "[CV] .................................. C=1, kernel=rbf, total=   1.7s\n",
      "[CV] C=1, kernel=rbf .................................................\n",
      "[CV] .................................. C=1, kernel=rbf, total=   1.7s\n",
      "[CV] C=1, kernel=linear ..............................................\n",
      "[CV] ............................... C=1, kernel=linear, total= 7.7min\n",
      "[CV] C=1, kernel=linear ..............................................\n",
      "[CV] ............................... C=1, kernel=linear, total= 8.5min\n",
      "[CV] C=1, kernel=linear ..............................................\n",
      "[CV] ............................... C=1, kernel=linear, total=11.7min\n",
      "[CV] C=1, kernel=linear ..............................................\n",
      "[CV] ............................... C=1, kernel=linear, total=16.7min\n",
      "[CV] C=1, kernel=linear ..............................................\n",
      "[CV] ............................... C=1, kernel=linear, total=23.3min\n",
      "[CV] C=10, kernel=rbf ................................................\n",
      "[CV] ................................. C=10, kernel=rbf, total=   1.8s\n",
      "[CV] C=10, kernel=rbf ................................................\n",
      "[CV] ................................. C=10, kernel=rbf, total=   1.8s\n",
      "[CV] C=10, kernel=rbf ................................................\n",
      "[CV] ................................. C=10, kernel=rbf, total=   1.9s\n",
      "[CV] C=10, kernel=rbf ................................................\n",
      "[CV] ................................. C=10, kernel=rbf, total=   1.7s\n",
      "[CV] C=10, kernel=rbf ................................................\n",
      "[CV] ................................. C=10, kernel=rbf, total=   1.8s\n",
      "[CV] C=10, kernel=linear .............................................\n",
      "[CV] .............................. C=10, kernel=linear, total=47.4min\n",
      "[CV] C=10, kernel=linear .............................................\n",
      "[CV] .............................. C=10, kernel=linear, total= 8.5min\n",
      "[CV] C=10, kernel=linear .............................................\n",
      "[CV] .............................. C=10, kernel=linear, total=22.5min\n",
      "[CV] C=10, kernel=linear .............................................\n",
      "[CV] .............................. C=10, kernel=linear, total=21.8min\n",
      "[CV] C=10, kernel=linear .............................................\n",
      "[CV] .............................. C=10, kernel=linear, total=10.3min\n"
     ]
    },
    {
     "name": "stderr",
     "output_type": "stream",
     "text": [
      "[Parallel(n_jobs=1)]: Done  30 out of  30 | elapsed: 253.2min finished\n"
     ]
    },
    {
     "data": {
      "text/plain": [
       "GridSearchCV(cv=5, estimator=SVC(),\n",
       "             param_grid=[{'C': [0.1, 1, 10], 'kernel': ['rbf', 'linear']}],\n",
       "             return_train_score=True, verbose=2)"
      ]
     },
     "execution_count": 64,
     "metadata": {},
     "output_type": "execute_result"
    }
   ],
   "source": [
    "# Combination of hyperparameters\n",
    "svc_grid = [\n",
    "    # Try  combinations of hyperparameters\n",
    "    {'C':[0.1,1,10],'kernel':['rbf','linear']}\n",
    "]    \n",
    "\n",
    "svc = SVC()\n",
    "\n",
    "grid_search_svc = GridSearchCV(estimator=svc, param_grid = svc_grid, cv=5, return_train_score=True, verbose=2)\n",
    "\n",
    "grid_search_svc.fit(X_train, y_train)"
   ]
  },
  {
   "cell_type": "code",
   "execution_count": 67,
   "metadata": {},
   "outputs": [
    {
     "data": {
      "text/html": [
       "<div>\n",
       "<style scoped>\n",
       "    .dataframe tbody tr th:only-of-type {\n",
       "        vertical-align: middle;\n",
       "    }\n",
       "\n",
       "    .dataframe tbody tr th {\n",
       "        vertical-align: top;\n",
       "    }\n",
       "\n",
       "    .dataframe thead th {\n",
       "        text-align: right;\n",
       "    }\n",
       "</style>\n",
       "<table border=\"1\" class=\"dataframe\">\n",
       "  <thead>\n",
       "    <tr style=\"text-align: right;\">\n",
       "      <th></th>\n",
       "      <th>param_C</th>\n",
       "      <th>param_kernel</th>\n",
       "      <th>mean_test_score</th>\n",
       "      <th>std_test_score</th>\n",
       "    </tr>\n",
       "  </thead>\n",
       "  <tbody>\n",
       "    <tr>\n",
       "      <th>0</th>\n",
       "      <td>0.1</td>\n",
       "      <td>rbf</td>\n",
       "      <td>0.734647</td>\n",
       "      <td>0.000094</td>\n",
       "    </tr>\n",
       "    <tr>\n",
       "      <th>1</th>\n",
       "      <td>0.1</td>\n",
       "      <td>linear</td>\n",
       "      <td>0.800143</td>\n",
       "      <td>0.004736</td>\n",
       "    </tr>\n",
       "    <tr>\n",
       "      <th>2</th>\n",
       "      <td>1</td>\n",
       "      <td>rbf</td>\n",
       "      <td>0.734647</td>\n",
       "      <td>0.000094</td>\n",
       "    </tr>\n",
       "    <tr>\n",
       "      <th>3</th>\n",
       "      <td>1</td>\n",
       "      <td>linear</td>\n",
       "      <td>0.796416</td>\n",
       "      <td>0.009323</td>\n",
       "    </tr>\n",
       "    <tr>\n",
       "      <th>4</th>\n",
       "      <td>10</td>\n",
       "      <td>rbf</td>\n",
       "      <td>0.761093</td>\n",
       "      <td>0.005267</td>\n",
       "    </tr>\n",
       "    <tr>\n",
       "      <th>5</th>\n",
       "      <td>10</td>\n",
       "      <td>linear</td>\n",
       "      <td>0.791623</td>\n",
       "      <td>0.010897</td>\n",
       "    </tr>\n",
       "  </tbody>\n",
       "</table>\n",
       "</div>"
      ],
      "text/plain": [
       "  param_C param_kernel  mean_test_score  std_test_score\n",
       "0     0.1          rbf         0.734647        0.000094\n",
       "1     0.1       linear         0.800143        0.004736\n",
       "2       1          rbf         0.734647        0.000094\n",
       "3       1       linear         0.796416        0.009323\n",
       "4      10          rbf         0.761093        0.005267\n",
       "5      10       linear         0.791623        0.010897"
      ]
     },
     "execution_count": 67,
     "metadata": {},
     "output_type": "execute_result"
    }
   ],
   "source": [
    "pd.DataFrame(grid_search_svc.cv_results_)[['param_C','param_kernel','mean_test_score','std_test_score']]"
   ]
  },
  {
   "cell_type": "code",
   "execution_count": 70,
   "metadata": {},
   "outputs": [
    {
     "data": {
      "text/plain": [
       "0.8001429469772308"
      ]
     },
     "execution_count": 70,
     "metadata": {},
     "output_type": "execute_result"
    }
   ],
   "source": [
    "# Final accuracy score\n",
    "\n",
    "final_svcscore = grid_search_svc.best_score_\n",
    "\n",
    "final_svcscore"
   ]
  },
  {
   "cell_type": "markdown",
   "metadata": {},
   "source": [
    "There was a slight improvement in the best score for Support Vector Machine after fine tuning with the GridSearch CV. It moved from 0.796 +/- 0.009 using cross validation to 0.800 +/- 0.005."
   ]
  },
  {
   "cell_type": "code",
   "execution_count": 121,
   "metadata": {},
   "outputs": [
    {
     "data": {
      "text/html": [
       "<div>\n",
       "<style scoped>\n",
       "    .dataframe tbody tr th:only-of-type {\n",
       "        vertical-align: middle;\n",
       "    }\n",
       "\n",
       "    .dataframe tbody tr th {\n",
       "        vertical-align: top;\n",
       "    }\n",
       "\n",
       "    .dataframe thead th {\n",
       "        text-align: right;\n",
       "    }\n",
       "</style>\n",
       "<table border=\"1\" class=\"dataframe\">\n",
       "  <thead>\n",
       "    <tr style=\"text-align: right;\">\n",
       "      <th></th>\n",
       "      <th>Model</th>\n",
       "      <th>Score</th>\n",
       "    </tr>\n",
       "  </thead>\n",
       "  <tbody>\n",
       "    <tr>\n",
       "      <th>0</th>\n",
       "      <td>Logistic Regression</td>\n",
       "      <td>0.806354</td>\n",
       "    </tr>\n",
       "    <tr>\n",
       "      <th>1</th>\n",
       "      <td>Decision Tree</td>\n",
       "      <td>0.792689</td>\n",
       "    </tr>\n",
       "    <tr>\n",
       "      <th>2</th>\n",
       "      <td>Random Forest</td>\n",
       "      <td>0.799609</td>\n",
       "    </tr>\n",
       "    <tr>\n",
       "      <th>3</th>\n",
       "      <td>K-nearest neighbor</td>\n",
       "      <td>0.768373</td>\n",
       "    </tr>\n",
       "    <tr>\n",
       "      <th>4</th>\n",
       "      <td>Support Vector Machine</td>\n",
       "      <td>0.800143</td>\n",
       "    </tr>\n",
       "  </tbody>\n",
       "</table>\n",
       "</div>"
      ],
      "text/plain": [
       "                    Model     Score\n",
       "0     Logistic Regression  0.806354\n",
       "1           Decision Tree  0.792689\n",
       "2           Random Forest  0.799609\n",
       "3      K-nearest neighbor  0.768373\n",
       "4  Support Vector Machine  0.800143"
      ]
     },
     "execution_count": 121,
     "metadata": {},
     "output_type": "execute_result"
    }
   ],
   "source": [
    "# Final Model Comparison\n",
    "\n",
    "Model_comparison = pd.DataFrame({\n",
    "    'Model':['Logistic Regression', 'Decision Tree', 'Random Forest', 'K-nearest neighbor','Support Vector Machine'],\n",
    "    'Score':[final_logregscore,final_dtscore,final_rfscore,final_knnscore, final_svcscore],  \n",
    "})\n",
    "\n",
    "Model_comparison"
   ]
  },
  {
   "cell_type": "markdown",
   "metadata": {},
   "source": [
    "# Presentation of Solution"
   ]
  },
  {
   "cell_type": "markdown",
   "metadata": {},
   "source": [
    "### Final Model"
   ]
  },
  {
   "cell_type": "markdown",
   "metadata": {},
   "source": [
    "#### Final - LogisticRegression with regularization"
   ]
  },
  {
   "cell_type": "code",
   "execution_count": 48,
   "metadata": {},
   "outputs": [
    {
     "data": {
      "text/plain": [
       "0.8063544423097836"
      ]
     },
     "execution_count": 48,
     "metadata": {},
     "output_type": "execute_result"
    }
   ],
   "source": [
    "# Final accuracy score\n",
    "\n",
    "final_logreg = grid_search_logreg.best_score_\n",
    "\n",
    "final_logreg"
   ]
  },
  {
   "cell_type": "code",
   "execution_count": 49,
   "metadata": {},
   "outputs": [],
   "source": [
    "gridsearchlr = grid_search_logreg.best_estimator_\n",
    "\n",
    "final_lrpred = gridsearchlr.predict(X_test)"
   ]
  },
  {
   "cell_type": "code",
   "execution_count": 50,
   "metadata": {},
   "outputs": [
    {
     "data": {
      "text/plain": [
       "array([[934, 101],\n",
       "       [170, 204]], dtype=int64)"
      ]
     },
     "execution_count": 50,
     "metadata": {},
     "output_type": "execute_result"
    }
   ],
   "source": [
    "cm_lrfinal = confusion_matrix(y_test,final_lrpred)\n",
    "\n",
    "cm_lrfinal"
   ]
  },
  {
   "cell_type": "code",
   "execution_count": 51,
   "metadata": {},
   "outputs": [
    {
     "data": {
      "text/plain": [
       "1138"
      ]
     },
     "execution_count": 51,
     "metadata": {},
     "output_type": "execute_result"
    }
   ],
   "source": [
    "934 + 204"
   ]
  },
  {
   "cell_type": "code",
   "execution_count": 52,
   "metadata": {},
   "outputs": [],
   "source": [
    "final_lrscore = gridsearchlr.score(X_test, y_test)"
   ]
  },
  {
   "cell_type": "code",
   "execution_count": 53,
   "metadata": {},
   "outputs": [
    {
     "data": {
      "text/plain": [
       "Text(30.5, 0.5, 'Actual')"
      ]
     },
     "execution_count": 53,
     "metadata": {},
     "output_type": "execute_result"
    },
    {
     "data": {
      "image/png": "[encoded data removed]",
      "text/plain": [
       "<Figure size 432x288 with 2 Axes>"
      ]
     },
     "metadata": {},
     "output_type": "display_data"
    }
   ],
   "source": [
    "seaborn.heatmap(cm_lrfinal, annot=True,fmt =\".2f\", cmap=plt.cm.Blues)\n",
    "plt.title(\"Logistic Regression\", fontsize=14)\n",
    "plt.xlabel(('Predicted'), fontsize=14)\n",
    "plt.ylabel(('Actual'), fontsize=14)"
   ]
  },
  {
   "cell_type": "markdown",
   "metadata": {},
   "source": [
    "### Conclusion"
   ]
  },
  {
   "cell_type": "markdown",
   "metadata": {},
   "source": [
    "The goal of the project was predict which customer will churn or not churn using a classification model with an accuracy score above 0.73. After fine tuning using grid search cv all the models had a accuracy score of over 0.73. After fine tuning, the best and final model was found to be the Logistic Regression Model, this is because it had the highest accuracy score of 0.806 and a standard deviation of +/- 0.01 with C=0.1.\n",
    "\n",
    "The Telco customer churn dataset was modeled using five different models. These models are Logistic Regression, Decision Tree, Random Forest, K-Nearest Neigbors and Support Vector Machines. \n",
    "\n",
    "The results are reliable because first the models were compared using 5-fold cross validation. Then second, a further fine tuning was done with Grid Search CV using different hyperparameters. \n",
    "\n",
    "The project is important for the business because the Telco business can predict the customers who are likely to churn or not with relatively good accuracy. In addition, using the confusion matric this final Logistic Regression model was able to predict 1138 values correctly of the 1409 values in the test data. This means that it was able to accurately predict 1138 of the customers who would churn or not churn out of 1409 customers. That is a good number of customers. The business can use this information to improve their services to customers. \n",
    "\n",
    "### Research Questions\n",
    " - What do we learn from exploratory data analysis?\n",
    "\n",
    "Based on the exploratory data analysis of the customers who had internet services, those who churned the most were using fiber optics. Therefore, the business should consider improving their fiber optic services. From the EDA we also saw that of the customers who used internet service the highest number of those who churned did not have device protection, tech support or online security. The business should therefore consider offering these services for free or at a lower rate to their customers. The customers with the month-to-month contract churned the most, which is expected since they are not tied to a long term contract. \n",
    "\n",
    "- What happened to the accuracy score when the grid search cross validation was used?\n",
    "\n",
    "After using the grid search Cross Validation there was an slight improvement on the accuracy score of all the models compared to their results after the Cross Validation. The Decision Tree had the greatest improvement. Though overall, the Logistic Regression model had the highest accuracy score. \n",
    "\n",
    " - What is the best model to use?\n",
    " \n",
    "The Logistic Regression model was the best model as it had the highest accuracy score 0.806 and a standard deviation of +/- 0.01 with C=01, penalty=l1. It had the highest score after using the 5-fold cross validation and was still the highest after using the GridSearch CV. \n",
    "\n",
    "### Limitations\n",
    "With further research calculation of the [Customer Lifetime Value](https://quickbooks.intuit.com/ca/resources/profit-loss/customer-acquisition-cost-lifetime-value/) would be done and then an evaluation of how this affects the prediction. \n",
    "\n",
    "\n",
    "### Expectations\n",
    "The results are above expectations because not only did we model the data using different models, but also used the 5-fold cross validation to compare the models. Then, went further to optimize the models using GridSearch CV. In data preparation, the onehot encoding was used to make use that there was no bias created in the data by giving the categories ordinal values. "
   ]
  },
  {
   "cell_type": "markdown",
   "metadata": {},
   "source": [
    "### References\n",
    "\n",
    "- [Scikit-learn](https://scikit-learn.org/stable/modules/model_evaluation.html#classification-metrics)\n",
    "\n",
    "- [Stackoverflow](https://stackoverflow.com/questions)\n",
    "\n",
    "- [Pandas](https://pandas.pydata.org/docs/user_guide/text.html?highlight=strip%20objects)\n",
    "\n",
    "- [Kaggle](https://www.kaggle.com/blastchar/telco-customer-churn)\n",
    "\n",
    "- [Customer Retention](https://en.wikipedia.org/wiki/Customer_retention).Wikipedia.\n",
    "\n",
    "- [The Price is Right:Incentives that Stimulates switching behaviour](https://www.nielsen.com/us/en/insights/article/2013/the-price-is-right-incentives-that-stimulate-switching-behavior/) Nov 18 2013. NeilsonIQ.\n",
    "- [How loyal are your customers](https://www.nielsen.com/us/en/insights/report/2013/how-loyal-are-your-customers/) 2013. NeilsonIQ.\n",
    "\n",
    "- [Customer Lifetime Value](https://quickbooks.intuit.com/ca/resources/profit-loss/customer-acquisition-cost-lifetime-value/)"
   ]
  },
  {
   "cell_type": "code",
   "execution_count": null,
   "metadata": {},
   "outputs": [],
   "source": []
  }
 ],
 "metadata": {
  "kernelspec": {
   "display_name": "Python 3",
   "language": "python",
   "name": "python3"
  },
  "language_info": {
   "codemirror_mode": {
    "name": "ipython",
    "version": 3
   },
   "file_extension": ".py",
   "mimetype": "text/x-python",
   "name": "python",
   "nbconvert_exporter": "python",
   "pygments_lexer": "ipython3",
   "version": "3.8.3"
  }
 },
 "nbformat": 4,
 "nbformat_minor": 4
}
